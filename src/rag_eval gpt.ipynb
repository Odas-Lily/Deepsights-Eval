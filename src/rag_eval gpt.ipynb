{
 "cells": [
  {
   "cell_type": "markdown",
   "metadata": {},
   "source": [
    "## **LLM Evaluation Framework**\n",
    "This notebook sets up an evaluation infrastructure for testing LLM performance in a Retrieval-Augmented Generation (RAG) pipeline.\n",
    "### **Key Components**\n",
    "- **Vector Database:** ChromaDB for storing and retrieving documents.\n",
    "- **Embedding Model:** OpenAIEmbeddings for converting text into vector space.\n",
    "- **Retriever:** Queries the vector database for relevant document snippets.\n",
    "- **LLM (GPT-4o, GPT-3.5, Gemini):** Generates responses based on retrieved contexts.\n",
    "- **Evaluation Setup:** Dummy evaluator to test LLM outputs.\n"
   ]
  },
  {
   "cell_type": "code",
   "execution_count": 2,
   "metadata": {},
   "outputs": [
    {
     "name": "stdout",
     "output_type": "stream",
     "text": [
      "Requirement already satisfied: langchain_community in /opt/homebrew/lib/python3.13/site-packages (0.3.20)\n",
      "Requirement already satisfied: langchain-core<1.0.0,>=0.3.45 in /opt/homebrew/lib/python3.13/site-packages (from langchain_community) (0.3.49)\n",
      "Requirement already satisfied: langchain<1.0.0,>=0.3.21 in /opt/homebrew/lib/python3.13/site-packages (from langchain_community) (0.3.21)\n",
      "Requirement already satisfied: SQLAlchemy<3,>=1.4 in /opt/homebrew/lib/python3.13/site-packages (from langchain_community) (2.0.38)\n",
      "Requirement already satisfied: requests<3,>=2 in /opt/homebrew/lib/python3.13/site-packages (from langchain_community) (2.32.3)\n",
      "Requirement already satisfied: PyYAML>=5.3 in /opt/homebrew/lib/python3.13/site-packages (from langchain_community) (6.0.2)\n",
      "Requirement already satisfied: aiohttp<4.0.0,>=3.8.3 in /opt/homebrew/lib/python3.13/site-packages (from langchain_community) (3.11.12)\n",
      "Requirement already satisfied: tenacity!=8.4.0,<10,>=8.1.0 in /opt/homebrew/lib/python3.13/site-packages (from langchain_community) (9.0.0)\n",
      "Requirement already satisfied: dataclasses-json<0.7,>=0.5.7 in /opt/homebrew/lib/python3.13/site-packages (from langchain_community) (0.6.7)\n",
      "Requirement already satisfied: pydantic-settings<3.0.0,>=2.4.0 in /opt/homebrew/lib/python3.13/site-packages (from langchain_community) (2.7.1)\n",
      "Requirement already satisfied: langsmith<0.4,>=0.1.125 in /opt/homebrew/lib/python3.13/site-packages (from langchain_community) (0.3.18)\n",
      "Requirement already satisfied: httpx-sse<1.0.0,>=0.4.0 in /opt/homebrew/lib/python3.13/site-packages (from langchain_community) (0.4.0)\n",
      "Requirement already satisfied: numpy<3,>=1.26.2 in /opt/homebrew/lib/python3.13/site-packages (from langchain_community) (2.2.2)\n",
      "Requirement already satisfied: aiohappyeyeballs>=2.3.0 in /opt/homebrew/lib/python3.13/site-packages (from aiohttp<4.0.0,>=3.8.3->langchain_community) (2.4.6)\n",
      "Requirement already satisfied: aiosignal>=1.1.2 in /opt/homebrew/lib/python3.13/site-packages (from aiohttp<4.0.0,>=3.8.3->langchain_community) (1.3.2)\n",
      "Requirement already satisfied: attrs>=17.3.0 in /opt/homebrew/lib/python3.13/site-packages (from aiohttp<4.0.0,>=3.8.3->langchain_community) (25.1.0)\n",
      "Requirement already satisfied: frozenlist>=1.1.1 in /opt/homebrew/lib/python3.13/site-packages (from aiohttp<4.0.0,>=3.8.3->langchain_community) (1.5.0)\n",
      "Requirement already satisfied: multidict<7.0,>=4.5 in /opt/homebrew/lib/python3.13/site-packages (from aiohttp<4.0.0,>=3.8.3->langchain_community) (6.1.0)\n",
      "Requirement already satisfied: propcache>=0.2.0 in /opt/homebrew/lib/python3.13/site-packages (from aiohttp<4.0.0,>=3.8.3->langchain_community) (0.2.1)\n",
      "Requirement already satisfied: yarl<2.0,>=1.17.0 in /opt/homebrew/lib/python3.13/site-packages (from aiohttp<4.0.0,>=3.8.3->langchain_community) (1.18.3)\n",
      "Requirement already satisfied: marshmallow<4.0.0,>=3.18.0 in /opt/homebrew/lib/python3.13/site-packages (from dataclasses-json<0.7,>=0.5.7->langchain_community) (3.26.1)\n",
      "Requirement already satisfied: typing-inspect<1,>=0.4.0 in /opt/homebrew/lib/python3.13/site-packages (from dataclasses-json<0.7,>=0.5.7->langchain_community) (0.9.0)\n",
      "Requirement already satisfied: langchain-text-splitters<1.0.0,>=0.3.7 in /opt/homebrew/lib/python3.13/site-packages (from langchain<1.0.0,>=0.3.21->langchain_community) (0.3.7)\n",
      "Requirement already satisfied: pydantic<3.0.0,>=2.7.4 in /opt/homebrew/lib/python3.13/site-packages (from langchain<1.0.0,>=0.3.21->langchain_community) (2.10.6)\n",
      "Requirement already satisfied: jsonpatch<2.0,>=1.33 in /opt/homebrew/lib/python3.13/site-packages (from langchain-core<1.0.0,>=0.3.45->langchain_community) (1.33)\n",
      "Requirement already satisfied: packaging<25,>=23.2 in /opt/homebrew/lib/python3.13/site-packages (from langchain-core<1.0.0,>=0.3.45->langchain_community) (24.2)\n",
      "Requirement already satisfied: typing-extensions>=4.7 in /opt/homebrew/lib/python3.13/site-packages (from langchain-core<1.0.0,>=0.3.45->langchain_community) (4.12.2)\n",
      "Requirement already satisfied: httpx<1,>=0.23.0 in /opt/homebrew/lib/python3.13/site-packages (from langsmith<0.4,>=0.1.125->langchain_community) (0.28.1)\n",
      "Requirement already satisfied: orjson<4.0.0,>=3.9.14 in /opt/homebrew/lib/python3.13/site-packages (from langsmith<0.4,>=0.1.125->langchain_community) (3.10.15)\n",
      "Requirement already satisfied: requests-toolbelt<2.0.0,>=1.0.0 in /opt/homebrew/lib/python3.13/site-packages (from langsmith<0.4,>=0.1.125->langchain_community) (1.0.0)\n",
      "Requirement already satisfied: zstandard<0.24.0,>=0.23.0 in /opt/homebrew/lib/python3.13/site-packages (from langsmith<0.4,>=0.1.125->langchain_community) (0.23.0)\n",
      "Requirement already satisfied: python-dotenv>=0.21.0 in /opt/homebrew/lib/python3.13/site-packages (from pydantic-settings<3.0.0,>=2.4.0->langchain_community) (1.0.1)\n",
      "Requirement already satisfied: charset-normalizer<4,>=2 in /opt/homebrew/lib/python3.13/site-packages (from requests<3,>=2->langchain_community) (3.4.1)\n",
      "Requirement already satisfied: idna<4,>=2.5 in /opt/homebrew/lib/python3.13/site-packages (from requests<3,>=2->langchain_community) (3.10)\n",
      "Requirement already satisfied: urllib3<3,>=1.21.1 in /opt/homebrew/lib/python3.13/site-packages (from requests<3,>=2->langchain_community) (2.3.0)\n",
      "Requirement already satisfied: certifi>=2017.4.17 in /opt/homebrew/lib/python3.13/site-packages (from requests<3,>=2->langchain_community) (2025.1.31)\n",
      "Requirement already satisfied: anyio in /opt/homebrew/lib/python3.13/site-packages (from httpx<1,>=0.23.0->langsmith<0.4,>=0.1.125->langchain_community) (4.8.0)\n",
      "Requirement already satisfied: httpcore==1.* in /opt/homebrew/lib/python3.13/site-packages (from httpx<1,>=0.23.0->langsmith<0.4,>=0.1.125->langchain_community) (1.0.7)\n",
      "Requirement already satisfied: h11<0.15,>=0.13 in /opt/homebrew/lib/python3.13/site-packages (from httpcore==1.*->httpx<1,>=0.23.0->langsmith<0.4,>=0.1.125->langchain_community) (0.14.0)\n",
      "Requirement already satisfied: jsonpointer>=1.9 in /opt/homebrew/lib/python3.13/site-packages (from jsonpatch<2.0,>=1.33->langchain-core<1.0.0,>=0.3.45->langchain_community) (3.0.0)\n",
      "Requirement already satisfied: annotated-types>=0.6.0 in /opt/homebrew/lib/python3.13/site-packages (from pydantic<3.0.0,>=2.7.4->langchain<1.0.0,>=0.3.21->langchain_community) (0.7.0)\n",
      "Requirement already satisfied: pydantic-core==2.27.2 in /opt/homebrew/lib/python3.13/site-packages (from pydantic<3.0.0,>=2.7.4->langchain<1.0.0,>=0.3.21->langchain_community) (2.27.2)\n",
      "Requirement already satisfied: mypy-extensions>=0.3.0 in /opt/homebrew/lib/python3.13/site-packages (from typing-inspect<1,>=0.4.0->dataclasses-json<0.7,>=0.5.7->langchain_community) (1.0.0)\n",
      "Requirement already satisfied: sniffio>=1.1 in /opt/homebrew/lib/python3.13/site-packages (from anyio->httpx<1,>=0.23.0->langsmith<0.4,>=0.1.125->langchain_community) (1.3.1)\n"
     ]
    }
   ],
   "source": [
    "! pip install langchain_community"
   ]
  },
  {
   "cell_type": "code",
   "execution_count": 2,
   "metadata": {},
   "outputs": [],
   "source": [
    "#! pip install chromadb"
   ]
  },
  {
   "cell_type": "code",
   "execution_count": 3,
   "metadata": {},
   "outputs": [],
   "source": [
    "#%pip install -qU langchain-google-genai"
   ]
  },
  {
   "cell_type": "code",
   "execution_count": 4,
   "metadata": {},
   "outputs": [],
   "source": [
    "#%pip install langchain_openai langchain_core"
   ]
  },
  {
   "cell_type": "markdown",
   "metadata": {},
   "source": [
    " #### Import Required Libraries"
   ]
  },
  {
   "cell_type": "code",
   "execution_count": 3,
   "metadata": {},
   "outputs": [
    {
     "ename": "ModuleNotFoundError",
     "evalue": "No module named 'langchain_community'",
     "output_type": "error",
     "traceback": [
      "\u001b[31m---------------------------------------------------------------------------\u001b[39m",
      "\u001b[31mModuleNotFoundError\u001b[39m                       Traceback (most recent call last)",
      "\u001b[36mCell\u001b[39m\u001b[36m \u001b[39m\u001b[32mIn[3]\u001b[39m\u001b[32m, line 2\u001b[39m\n\u001b[32m      1\u001b[39m \u001b[38;5;28;01mimport\u001b[39;00m\u001b[38;5;250m \u001b[39m\u001b[34;01mos\u001b[39;00m \n\u001b[32m----> \u001b[39m\u001b[32m2\u001b[39m \u001b[38;5;28;01mfrom\u001b[39;00m\u001b[38;5;250m \u001b[39m\u001b[34;01mlangchain_community\u001b[39;00m\u001b[34;01m.\u001b[39;00m\u001b[34;01mvectorstores\u001b[39;00m\u001b[38;5;250m \u001b[39m\u001b[38;5;28;01mimport\u001b[39;00m Chroma\n\u001b[32m      3\u001b[39m \u001b[38;5;28;01mfrom\u001b[39;00m\u001b[38;5;250m \u001b[39m\u001b[34;01mlangchain_openai\u001b[39;00m\u001b[34;01m.\u001b[39;00m\u001b[34;01membeddings\u001b[39;00m\u001b[38;5;250m \u001b[39m\u001b[38;5;28;01mimport\u001b[39;00m OpenAIEmbeddings\n\u001b[32m      4\u001b[39m \u001b[38;5;28;01mfrom\u001b[39;00m\u001b[38;5;250m \u001b[39m\u001b[34;01mlangchain\u001b[39;00m\u001b[34;01m.\u001b[39;00m\u001b[34;01mtext_splitter\u001b[39;00m\u001b[38;5;250m \u001b[39m\u001b[38;5;28;01mimport\u001b[39;00m RecursiveCharacterTextSplitter\n",
      "\u001b[31mModuleNotFoundError\u001b[39m: No module named 'langchain_community'"
     ]
    }
   ],
   "source": [
    "import os \n",
    "from langchain_community.vectorstores import Chroma\n",
    "from langchain_openai.embeddings import OpenAIEmbeddings\n",
    "from langchain.text_splitter import RecursiveCharacterTextSplitter\n",
    "from langchain_community.document_loaders import TextLoader\n",
    "from langchain_google_genai import ChatGoogleGenerativeAI\n",
    "from langchain_anthropic import ChatAnthropic"
   ]
  },
  {
   "cell_type": "code",
   "execution_count": 19,
   "metadata": {},
   "outputs": [
    {
     "data": {
      "text/plain": [
       "True"
      ]
     },
     "execution_count": 19,
     "metadata": {},
     "output_type": "execute_result"
    }
   ],
   "source": [
    "from dotenv import load_dotenv\n",
    "\n",
    "# Load environment variables from .env\n",
    "#load_dotenv(dotenv_path='.env', override=True)\n",
    "load_dotenv()"
   ]
  },
  {
   "cell_type": "code",
   "execution_count": 20,
   "metadata": {},
   "outputs": [
    {
     "data": {
      "text/plain": [
       "False"
      ]
     },
     "execution_count": 20,
     "metadata": {},
     "output_type": "execute_result"
    }
   ],
   "source": [
    "from langsmith import utils\n",
    "utils.tracing_is_enabled()"
   ]
  },
  {
   "cell_type": "code",
   "execution_count": 21,
   "metadata": {},
   "outputs": [],
   "source": [
    "os.environ[\"LANGCHAIN_TRACING_V2\"] = os.getenv(\"LANGSMITH_TRACING\")\n",
    "os.environ[\"LANGCHAIN_API_KEY\"] = os.getenv(\"LANGSMITH_API_KEY\")\n",
    "os.environ[\"LANGCHAIN_PROJECT\"] = str(os.getenv(\"LANGSMITH_PROJECT\"))\n",
    "os.environ['LANGCHAIN_ENDPOINT']= os.getenv(\"LANGSMITH_ENDPOINT\")"
   ]
  },
  {
   "cell_type": "markdown",
   "metadata": {},
   "source": [
    "#### Load the Document"
   ]
  },
  {
   "cell_type": "code",
   "execution_count": null,
   "metadata": {},
   "outputs": [],
   "source": [
    "# # Define the path to the document\n",
    "# doc_path = os.getcwd()\n",
    "# dir = os.path.dirname(os.path.abspath(doc_path))\n",
    "# file_path = os.path.join(dir, \"docs\", \"dummy.txt\")\n",
    "\n",
    "# # Load the document using TextLoader\n",
    "# loader = TextLoader(file_path)\n",
    "# documents = loader.load()   \n"
   ]
  },
  {
   "cell_type": "markdown",
   "metadata": {},
   "source": [
    "#### Split the Document into Chunks\n"
   ]
  },
  {
   "cell_type": "code",
   "execution_count": null,
   "metadata": {},
   "outputs": [],
   "source": [
    "# # Split the document into smaller chunks for processing(chunks of 300 characters with 20 characters overlap)\n",
    "# text_splitter = RecursiveCharacterTextSplitter(chunk_size=300, chunk_overlap=20)\n",
    "# splits = text_splitter.split_documents(documents)"
   ]
  },
  {
   "cell_type": "markdown",
   "metadata": {},
   "source": [
    "#### Embed the Document Chunks"
   ]
  },
  {
   "cell_type": "code",
   "execution_count": null,
   "metadata": {},
   "outputs": [],
   "source": [
    "# # Embed the document chunks into a vector store using OpenAI embeddings\n",
    "# vectorstore = Chroma.from_documents(documents=splits, embedding=OpenAIEmbeddings())\n",
    "\n",
    "# # Create a retriever to fetch relevant document chunks based on queries\n",
    "# retriever = vectorstore.as_retriever()"
   ]
  },
  {
   "cell_type": "code",
   "execution_count": null,
   "metadata": {},
   "outputs": [
    {
     "ename": "ModuleNotFoundError",
     "evalue": "No module named 'pandas'",
     "output_type": "error",
     "traceback": [
      "\u001b[31m---------------------------------------------------------------------------\u001b[39m",
      "\u001b[31mModuleNotFoundError\u001b[39m                       Traceback (most recent call last)",
      "\u001b[36mCell\u001b[39m\u001b[36m \u001b[39m\u001b[32mIn[1]\u001b[39m\u001b[32m, line 1\u001b[39m\n\u001b[32m----> \u001b[39m\u001b[32m1\u001b[39m \u001b[38;5;28;01mimport\u001b[39;00m\u001b[38;5;250m \u001b[39m\u001b[34;01mpandas\u001b[39;00m\u001b[38;5;250m \u001b[39m\u001b[38;5;28;01mas\u001b[39;00m\u001b[38;5;250m \u001b[39m\u001b[34;01mpd\u001b[39;00m\n\u001b[32m      2\u001b[39m \u001b[38;5;28;01mimport\u001b[39;00m\u001b[38;5;250m \u001b[39m\u001b[34;01mos\u001b[39;00m\n\u001b[32m      3\u001b[39m \u001b[38;5;28;01mfrom\u001b[39;00m\u001b[38;5;250m \u001b[39m\u001b[34;01mlangchain\u001b[39;00m\u001b[34;01m.\u001b[39;00m\u001b[34;01mtext_splitter\u001b[39;00m\u001b[38;5;250m \u001b[39m\u001b[38;5;28;01mimport\u001b[39;00m RecursiveCharacterTextSplitter\n",
      "\u001b[31mModuleNotFoundError\u001b[39m: No module named 'pandas'"
     ]
    }
   ],
   "source": [
    "import pandas as pd\n",
    "import os\n",
    "from langchain.text_splitter import RecursiveCharacterTextSplitter\n",
    "from langchain.embeddings.openai import OpenAIEmbeddings\n",
    "from langchain.vectorstores import Chroma\n",
    "\n",
    "# Load the Excel file\n",
    "file_path = \"/Users/lilian/Documents/LLM Eval Project 2/data/answers-fmcg-report-with-results.xlsx\"\n",
    "df = pd.read_excel(file_path)\n",
    "\n",
    "# Check column names\n",
    "print(df.columns)\n",
    "\n",
    "# Select relevant text columns\n",
    "text_columns = [\"snsTexts\", \"srsTexts\", \"avsTexts\", \"stsTexts\"]  # Adjust column names if needed\n",
    "df = df[text_columns].fillna(\"\")  # Fill NaN values with empty strings\n",
    "\n",
    "# Concatenate text from all columns into a single document per row\n",
    "df[\"combined_text\"] = df.apply(lambda row: \" \".join(row.values.astype(str)), axis=1)\n",
    "\n",
    "# Split the text into chunks (300 characters with 20-character overlap)\n",
    "text_splitter = RecursiveCharacterTextSplitter(chunk_size=300, chunk_overlap=20)\n",
    "documents = text_splitter.create_documents(df[\"combined_text\"].tolist())\n",
    "\n",
    "# Embed the document chunks\n",
    "embeddings = OpenAIEmbeddings()\n",
    "vectorstore = Chroma.from_documents(documents, embedding=embeddings)\n",
    "\n",
    "# Create a retriever\n",
    "retriever = vectorstore.as_retriever()\n",
    "\n",
    "# Test a query\n",
    "query = \"What is the trend of plant-based food consumption in the UK?\"\n",
    "docs = retriever.get_relevant_documents(query)\n",
    "for doc in docs:\n",
    "    print(doc.page_content)\n"
   ]
  },
  {
   "cell_type": "markdown",
   "metadata": {},
   "source": [
    "#### Import Additional Libraries"
   ]
  },
  {
   "cell_type": "code",
   "execution_count": 25,
   "metadata": {},
   "outputs": [
    {
     "name": "stderr",
     "output_type": "stream",
     "text": [
      "/opt/homebrew/lib/python3.13/site-packages/tqdm/auto.py:21: TqdmWarning: IProgress not found. Please update jupyter and ipywidgets. See https://ipywidgets.readthedocs.io/en/stable/user_install.html\n",
      "  from .autonotebook import tqdm as notebook_tqdm\n"
     ]
    }
   ],
   "source": [
    "import openai\n",
    "import datetime\n",
    "from langsmith import traceable\n",
    "from langsmith.wrappers import wrap_openai\n",
    "from langchain_google_genai import ChatGoogleGenerativeAI\n",
    "from langchain_google_genai import GoogleGenerativeAI\n",
    "import google.generativeai as genai\n",
    "\n",
    "\n",
    "genai.configure(api_key=os.getenv(\"GOOGLE_API_KEY\"))\n",
    "\n",
    "# Get today's date in YYYY-MM-DD format\n",
    "today = datetime.datetime.now().strftime(\"%Y-%m-%d\")"
   ]
  },
  {
   "cell_type": "markdown",
   "metadata": {},
   "source": [
    "#### Define the RAG Model Class"
   ]
  },
  {
   "cell_type": "code",
   "execution_count": 26,
   "metadata": {},
   "outputs": [],
   "source": [
    "\n",
    "class Ragdummy:\n",
    "    def __init__(self, retriever, model: str = \"gpt-4o\"):\n",
    "    #def __init__(self, retriever, model: str = \"gpt-4o-mini\"):\n",
    "    #def __init__(self, retriever, model: str = \"gpt-3.5-turbo\"):\n",
    "        \"\"\"\n",
    "        Initialize the RAG (Retrieval-Augmented Generation) model.\n",
    "        \n",
    "        Args:\n",
    "            retriever: The retriever object used to fetch relevant document chunks.\n",
    "            model (str): The name of the LLM model to use (default: \"gpt-4o\").\n",
    "        \"\"\"        \n",
    "        self._retriever = retriever\n",
    "        \n",
    "        # Wrap the OpenAI client to enable tracing and loggin\n",
    "        self._client = wrap_openai(openai.Client())\n",
    "        #self._client = genai.GenerativeModel(model)\n",
    "\n",
    "        # Set the LLM model to use\n",
    "        self._model = model\n",
    "\n",
    "    #CONTEXT = \"answer business questions based on provided documents\"\n",
    "\n",
    "    @traceable # Decorator to trace the function call for monitoring and debugging\n",
    "    def get_answer(self, question: str):\n",
    "        \"\"\"\n",
    "        Generate an answer to a question using the RAG model.\n",
    "        \n",
    "        Args:\n",
    "            question (str): The question to answer.\n",
    "        \n",
    "        Returns:\n",
    "            dict: A dictionary containing the generated answer and the contexts used.\n",
    "        \"\"\"    \n",
    "\n",
    "        # Retrieve relevant document chunks based on the question    \n",
    "        similar = self._retriever.invoke(question)\n",
    "        \n",
    "        response = self._client.chat.completions.create(\n",
    "        #response = self._client.generate_content(\n",
    "    \n",
    "            model=self._model,\n",
    "            messages=[\n",
    "                {\n",
    "                    \"role\": \"system\",\n",
    "                    \"content\": \"You are an accomplished AI working for the insights department at a company.Your job is to answer business questions based on provided documents. \"\n",
    "                    \"Today is {today}.\"\n",
    "                               \" Use the following docs to produce a concise answer to the users question\"\n",
    "                               f\"## Docs\\n\\n{similar}\"\n",
    "                     \"\"\"Please follow these steps to provide a response:\n",
    "\n",
    "                    1. Carefully review the source material, paying attention to any information that is relevant to answering the question:\n",
    "                        - Make extensive use of all information given.\n",
    "                        - It is CRITICAL that you only use information that is explicitly stated above.\n",
    "                        - Refrain from recommendations, speculation, or extrapolations.\n",
    "                        - Compare and contrast findings from different sources. Watch out for any apparent conflicts between sources as well as any corroborating information.\n",
    "                        - Make sure the context of the information given is applicable to the question, such as any specific country, category, or target group the question asks about.\n",
    "\n",
    "                    2. Write the answer in a professional, well-structured format with headings and inline citations:\n",
    "                        - Make sure to write a didactically well-structured answer for insights professionals and business stakeholders.\n",
    "                        - Aim to provide a professional response that will help inform decision-making.\n",
    "                        - Structure your answer with headings and use concise full text.\n",
    "                        - Use tables in your response only when needed.\n",
    "                        - Use lists and bullet points sparingly. Absolutely avoid nesting lists and bullet points.\n",
    "                        - Ensure to include direct inline citations for all information referenced in your answer. Use a bracketed citation style with source reference like [XXX]. If there are multiple references, provide them in separate brackets each: [XXX][ZZZ]. MAKE SURE TO USE THE REFERENCES EXACTLY AS GIVEN IN THE <reference> TAGS ABOVE.\n",
    "\n",
    "                    Write all your responses in English.\n",
    "\n",
    "                    Make sure to use Markdown in your response and structure it in this format:\n",
    "\n",
    "                    <answer>\n",
    "                    ...\n",
    "                    </answer>\n",
    "            \"\"\"},\n",
    "                {\"role\": \"user\", \"content\": question}\n",
    "\n",
    "            ]\n",
    "        )\n",
    "\n",
    "        # Return the generated answer and the contexts used\n",
    "        return {\n",
    "            #\"answer\": response.text,\n",
    "            \"answer\": response.choices[0].message.content, # Extract the generated answer\n",
    "            \"contexts\": [str(doc) for doc in similar], # Convert document chunks to strings\n",
    "        }\n"
   ]
  },
  {
   "cell_type": "markdown",
   "metadata": {},
   "source": [
    "####  Initialize the RAG Model"
   ]
  },
  {
   "cell_type": "code",
   "execution_count": 27,
   "metadata": {},
   "outputs": [],
   "source": [
    "# Example usage (Ensure `retriever` is properly initialized)\n",
    "rag_dummy = Ragdummy(retriever) "
   ]
  },
  {
   "cell_type": "markdown",
   "metadata": {},
   "source": [
    "#### Generate an Answer"
   ]
  },
  {
   "cell_type": "code",
   "execution_count": 28,
   "metadata": {},
   "outputs": [
    {
     "name": "stdout",
     "output_type": "stream",
     "text": [
      "{'answer': \"<answer>\\nThe provided documents do not contain any specific information regarding the number of plant-based consumers in East London or any other specific subregions of the UK. The documents only provide insights at a national level for the UK, stating that 9% of UK consumers are plant-based eaters, which includes both vegans and vegetarians [Document(metadata={'source': '/Users/lilian/Documents/LLM Eval Project/docs/dummy.txt'}, page_content='KEY INSIGHTS\\\\nUK - 759 participants\\\\n\\\\nConsumer Profile\\\\n(Image of a woman)\\\\n\\\\n9% of UK consumers are plant-based eaters (vegan + vegetarian), which, after Germany, is the highest share of plant-based eaters in Europe.')].\\n\\nTherefore, to get specific data on plant-based consumers in East London, further localized research or data would be required.\\n</answer>\\n\", 'contexts': [\"page_content='KEY INSIGHTS\\nUK - 759 participants\\n\\nConsumer Profile\\n(Image of a woman)\\n\\n9% of UK consumers are plant-based eaters (vegan + vegetarian), which, after Germany, is the highest share of plant-based eaters in Europe. 23% identify as flexitarian.' metadata={'source': '/Users/lilian/Documents/LLM Eval Project/docs/dummy.txt'}\", \"page_content='UK consumers specifically would like to find more plant-based chicken breasts (31%), sausages (29%), and minced meat (28%) in the supermarket. UK consumers specifically wish they could buy plant-based fish burgers (22%) and smoked salmon (20%). The plant-based meat sector in the UK is the largest' metadata={'source': '/Users/lilian/Documents/LLM Eval Project/docs/dummy.txt'}\", \"page_content='In terms of plant-based cheese, UK consumers would especially like to see plant-based sliced cheese (38%) and plant-based mozzarella (36%) available in supermarkets. The plant-based dairy sector is smaller than the plant-based meat sector in the UK, but growth rates are higher for plant-based milk' metadata={'source': '/Users/lilian/Documents/LLM Eval Project/docs/dummy.txt'}\", \"page_content='Consumption of Plant-Based Products\\n(Image of various plant-based products)\\n\\nLooking at plant-based food, plant-based milk (26% at least once a week), plant-based beef (24% at least once a week), and plant-based poultry (23% at least once a week) are the most frequently consumed.' metadata={'source': '/Users/lilian/Documents/LLM Eval Project/docs/dummy.txt'}\"]}\n",
      "Generated Answer: <answer>\n",
      "The provided documents do not contain any specific information regarding the number of plant-based consumers in East London or any other specific subregions of the UK. The documents only provide insights at a national level for the UK, stating that 9% of UK consumers are plant-based eaters, which includes both vegans and vegetarians [Document(metadata={'source': '/Users/lilian/Documents/LLM Eval Project/docs/dummy.txt'}, page_content='KEY INSIGHTS\\nUK - 759 participants\\n\\nConsumer Profile\\n(Image of a woman)\\n\\n9% of UK consumers are plant-based eaters (vegan + vegetarian), which, after Germany, is the highest share of plant-based eaters in Europe.')].\n",
      "\n",
      "Therefore, to get specific data on plant-based consumers in East London, further localized research or data would be required.\n",
      "</answer>\n",
      "\n",
      "Contexts Used: [\"page_content='KEY INSIGHTS\\nUK - 759 participants\\n\\nConsumer Profile\\n(Image of a woman)\\n\\n9% of UK consumers are plant-based eaters (vegan + vegetarian), which, after Germany, is the highest share of plant-based eaters in Europe. 23% identify as flexitarian.' metadata={'source': '/Users/lilian/Documents/LLM Eval Project/docs/dummy.txt'}\", \"page_content='UK consumers specifically would like to find more plant-based chicken breasts (31%), sausages (29%), and minced meat (28%) in the supermarket. UK consumers specifically wish they could buy plant-based fish burgers (22%) and smoked salmon (20%). The plant-based meat sector in the UK is the largest' metadata={'source': '/Users/lilian/Documents/LLM Eval Project/docs/dummy.txt'}\", \"page_content='In terms of plant-based cheese, UK consumers would especially like to see plant-based sliced cheese (38%) and plant-based mozzarella (36%) available in supermarkets. The plant-based dairy sector is smaller than the plant-based meat sector in the UK, but growth rates are higher for plant-based milk' metadata={'source': '/Users/lilian/Documents/LLM Eval Project/docs/dummy.txt'}\", \"page_content='Consumption of Plant-Based Products\\n(Image of various plant-based products)\\n\\nLooking at plant-based food, plant-based milk (26% at least once a week), plant-based beef (24% at least once a week), and plant-based poultry (23% at least once a week) are the most frequently consumed.' metadata={'source': '/Users/lilian/Documents/LLM Eval Project/docs/dummy.txt'}\"]\n"
     ]
    }
   ],
   "source": [
    "response = rag_dummy.get_answer(\"what is the number of plant-based cosumer in east london\")\n",
    "print(response)\n",
    "print(\"Generated Answer:\", response[\"answer\"])\n",
    "print(\"Contexts Used:\", response[\"contexts\"])"
   ]
  },
  {
   "cell_type": "markdown",
   "metadata": {},
   "source": [
    "#### Define Evaluation Functions"
   ]
  },
  {
   "cell_type": "code",
   "execution_count": 38,
   "metadata": {},
   "outputs": [],
   "source": [
    "# ------------\n",
    "def predict_rag_answer(example: dict):\n",
    "    \"\"\"Use this for answer evaluation\"\"\"\n",
    "    response = rag_dummy.get_answer(example[\"question\"])\n",
    "    return {\"answer\": response[\"answer\"]}\n",
    "\n",
    "def predict_rag_answer_with_context(example: dict):\n",
    "    \"\"\"Use this for evaluation of retrieved documents and hallucinations\"\"\"\n",
    "    response = rag_dummy.get_answer(example[\"question\"])\n",
    "    return {\"answer\": response[\"answer\"], \"contexts\": response[\"contexts\"]}"
   ]
  },
  {
   "cell_type": "markdown",
   "metadata": {},
   "source": [
    "### Define the QA Evaluator"
   ]
  },
  {
   "cell_type": "code",
   "execution_count": 39,
   "metadata": {},
   "outputs": [],
   "source": [
    "from langsmith.evaluation import LangChainStringEvaluator, evaluate\n",
    "\n",
    "# Define the QA evaluator\n",
    "qa_evaluator = [\n",
    "    LangChainStringEvaluator(\n",
    "        \"cot_qa\", # Use the Chain-of-Thought QA evaluator\n",
    "        prepare_data=lambda run, example: {\n",
    "            \"prediction\": run.outputs[\"answer\"], # Predicted answer from the RAG model\n",
    "            \"reference\": example.outputs[\"answer\"], # Ground truth answer\n",
    "            \"input\": example.inputs[\"question\"], # Input question\n",
    "        }\n",
    "    )\n",
    "]"
   ]
  },
  {
   "cell_type": "markdown",
   "metadata": {},
   "source": [
    "### Evaluation with GPT 4o"
   ]
  },
  {
   "cell_type": "code",
   "execution_count": 40,
   "metadata": {},
   "outputs": [
    {
     "name": "stdout",
     "output_type": "stream",
     "text": [
      "View the evaluation results for experiment: 'Eval-4o-82df68f8' at:\n",
      "https://smith.langchain.com/o/becb2dbe-6434-46cc-a3fb-97dca03fd3ef/datasets/ae7530d4-d63d-4398-9055-bad5719058ea/compare?selectedSessions=cdb11292-c368-45f5-87c3-e6d9adc426c6\n",
      "\n",
      "\n"
     ]
    },
    {
     "name": "stderr",
     "output_type": "stream",
     "text": [
      "5it [00:54, 10.92s/it]\n"
     ]
    }
   ],
   "source": [
    "\n",
    "# Define the dataset name\n",
    "dataset_name = \"Market Logic Dummy\"\n",
    "\n",
    "experiment_results = evaluate(\n",
    "    predict_rag_answer,\n",
    "    data=dataset_name, # Dataset to evaluate on\n",
    "    evaluators=qa_evaluator, # Evaluator to use\n",
    "    experiment_prefix=\"Eval-4o\", # Prefix for the experiment name\n",
    "    metadata={\n",
    "    \"title\":\"Report Plant based food in the UK\",\n",
    "    \"source\": \"ProVeg International\",\n",
    "    \"publication_date\":\"2024-09-01T08:20:00Z\",\n",
    "    \"summary\":\"Market analysis of consumer attitudes and behaviors towards plant-based foods in the UK, based on survey conducted as part of the Smart Protein project.\"\n",
    "},\n",
    ")\n"
   ]
  },
  {
   "cell_type": "markdown",
   "metadata": {},
   "source": [
    "### Evaluation with GPT 4o-mini"
   ]
  },
  {
   "cell_type": "code",
   "execution_count": 63,
   "metadata": {},
   "outputs": [
    {
     "name": "stdout",
     "output_type": "stream",
     "text": [
      "View the evaluation results for experiment: 'Eval-4o-mini-a303e7a9' at:\n",
      "https://smith.langchain.com/o/8a8f5023-8b7e-4c2c-b2bc-eb849b90cbe6/datasets/2148b077-b0a4-439d-acf9-03e55035e9ff/compare?selectedSessions=3560fdb7-e586-4a55-81db-822f363c24fc\n",
      "\n",
      "\n"
     ]
    },
    {
     "name": "stderr",
     "output_type": "stream",
     "text": [
      "6it [00:45,  7.57s/it]\n"
     ]
    }
   ],
   "source": [
    "# Define the dataset name\n",
    "#dataset_name = \"Market Logic Dummy\"\n",
    "\n",
    "experiment_results = evaluate(\n",
    "    predict_rag_answer,\n",
    "    data=dataset_name,\n",
    "    evaluators=qa_evaluator,\n",
    "    experiment_prefix=\"Eval-4o-mini\",\n",
    "    metadata={\n",
    "    \"title\":\"Report Plant based food in the UK\",\n",
    "    \"source\": \"ProVeg International\",\n",
    "    \"publication_date\":\"2024-09-01T08:20:00Z\",\n",
    "    \"summary\":\"Market analysis of consumer attitudes and behaviors towards plant-based foods in the UK, based on survey conducted as part of the Smart Protein project.\"\n",
    "},\n",
    ")\n"
   ]
  },
  {
   "cell_type": "markdown",
   "metadata": {},
   "source": [
    "### Evaluation with GPT 3.5"
   ]
  },
  {
   "cell_type": "code",
   "execution_count": 23,
   "metadata": {},
   "outputs": [
    {
     "name": "stdout",
     "output_type": "stream",
     "text": [
      "View the evaluation results for experiment: 'Eval-3.5b-3b7ba645' at:\n",
      "https://smith.langchain.com/o/becb2dbe-6434-46cc-a3fb-97dca03fd3ef/datasets/ae7530d4-d63d-4398-9055-bad5719058ea/compare?selectedSessions=09c0f897-7969-4d53-9165-47115dbccfb1\n",
      "\n",
      "\n"
     ]
    },
    {
     "name": "stderr",
     "output_type": "stream",
     "text": [
      "5it [00:26,  5.31s/it]\n"
     ]
    }
   ],
   "source": [
    "\n",
    "experiment_results = evaluate(\n",
    "    predict_rag_answer,\n",
    "    data=dataset_name,\n",
    "    evaluators=qa_evaluator,\n",
    "    experiment_prefix=\"Eval-3.5b\",\n",
    "    metadata={\n",
    "    \"title\":\"Report Plant based food in the UK\",\n",
    "    \"source\": \"ProVeg International\",\n",
    "    \"publication_date\":\"2024-09-01T08:20:00Z\",\n",
    "    \"summary\":\"Market analysis of consumer attitudes and behaviors towards plant-based foods in the UK, based on survey conducted as part of the Smart Protein project.\"\n",
    "},\n",
    ")\n"
   ]
  },
  {
   "cell_type": "markdown",
   "metadata": {},
   "source": [
    "### Evaluation with context Answer - GPT 4o"
   ]
  },
  {
   "cell_type": "code",
   "execution_count": 44,
   "metadata": {},
   "outputs": [
    {
     "name": "stdout",
     "output_type": "stream",
     "text": [
      "View the evaluation results for experiment: 'Eval-3.5b-ad418013' at:\n",
      "https://smith.langchain.com/o/8a8f5023-8b7e-4c2c-b2bc-eb849b90cbe6/datasets/2148b077-b0a4-439d-acf9-03e55035e9ff/compare?selectedSessions=dcdb7d4b-5995-47fd-b18e-3a61f90d9cc7\n",
      "\n",
      "\n"
     ]
    },
    {
     "name": "stderr",
     "output_type": "stream",
     "text": [
      "6it [00:25,  4.20s/it]\n"
     ]
    }
   ],
   "source": [
    "from langsmith.evaluation import LangChainStringEvaluator, evaluate\n",
    "\n",
    "# Evaluator\n",
    "qa_evaluator = [\n",
    "    LangChainStringEvaluator(\n",
    "        \"cot_qa\",\n",
    "        prepare_data=lambda run, example: {\n",
    "            \"prediction\": run.outputs[\"answer\"],\n",
    "            \"reference\": example.outputs[\"answer\"],\n",
    "            \"input\": example.inputs[\"question\"],\n",
    "        }\n",
    "    )\n",
    "]\n",
    "\n",
    "dataset_name = \"Market Logic Dummy\"\n",
    "\n",
    "experiment_results = evaluate(\n",
    "    predict_rag_answer_with_context,\n",
    "    data=dataset_name,\n",
    "    evaluators=qa_evaluator,\n",
    "    experiment_prefix=\"Eval-3.5b\",\n",
    "    metadata={\n",
    "    \"title\":\"Report Plant based food in the UK\",\n",
    "    \"source\": \"ProVeg International\",\n",
    "    \"publication_date\":\"2024-09-01T08:20:00Z\",\n",
    "    \"summary\":\"Market analysis of consumer attitudes and behaviors towards plant-based foods in the UK, based on survey conducted as part of the Smart Protein project.\"\n",
    "},\n",
    ")\n"
   ]
  },
  {
   "cell_type": "markdown",
   "metadata": {},
   "source": [
    "### Evaluation with context Answer - GPT 3.5"
   ]
  },
  {
   "cell_type": "code",
   "execution_count": 49,
   "metadata": {},
   "outputs": [
    {
     "name": "stdout",
     "output_type": "stream",
     "text": [
      "View the evaluation results for experiment: 'Eval-4ob-99c33a6d' at:\n",
      "https://smith.langchain.com/o/8a8f5023-8b7e-4c2c-b2bc-eb849b90cbe6/datasets/2148b077-b0a4-439d-acf9-03e55035e9ff/compare?selectedSessions=957744f6-ada2-4045-9662-ae7ae3beee42\n",
      "\n",
      "\n"
     ]
    },
    {
     "name": "stderr",
     "output_type": "stream",
     "text": [
      "6it [00:36,  6.03s/it]\n"
     ]
    }
   ],
   "source": [
    "from langsmith.evaluation import LangChainStringEvaluator, evaluate\n",
    "\n",
    "# Evaluator\n",
    "qa_evaluator = [\n",
    "    LangChainStringEvaluator(\n",
    "        \"cot_qa\",\n",
    "        prepare_data=lambda run, example: {\n",
    "            \"prediction\": run.outputs[\"answer\"],\n",
    "            \"reference\": example.outputs[\"answer\"],\n",
    "            \"input\": example.inputs[\"question\"],\n",
    "        }\n",
    "    )\n",
    "]\n",
    "\n",
    "dataset_name = \"Market Logic Dummy\"\n",
    "\n",
    "experiment_results = evaluate(\n",
    "    predict_rag_answer_with_context,\n",
    "    data=dataset_name,\n",
    "    evaluators=qa_evaluator,\n",
    "    experiment_prefix=\"Eval-4ob\",\n",
    "    metadata={\n",
    "    \"title\":\"Report Plant based food in the UK\",\n",
    "    \"source\": \"ProVeg International\",\n",
    "    \"publication_date\":\"2024-09-01T08:20:00Z\",\n",
    "    \"summary\":\"Market analysis of consumer attitudes and behaviors towards plant-based foods in the UK, based on survey conducted as part of the Smart Protein project.\"\n",
    "},\n",
    ")\n"
   ]
  },
  {
   "cell_type": "code",
   "execution_count": 44,
   "metadata": {},
   "outputs": [],
   "source": [
    "# Grade output schema\n",
    "from typing_extensions import Annotated, TypedDict\n",
    "from langchain_openai import ChatOpenAI\n",
    "\n",
    "class RelevanceGrade(TypedDict):\n",
    "    explanation: Annotated[str, ..., \"Explain your reasoning for the score\"]\n",
    "    relevant: Annotated[bool, ..., \"Provide the score on whether the answer addresses the question\"]\n",
    "\n",
    "# Grade prompt\n",
    "relevance_instructions=\"\"\"You are a teacher grading a quiz. \n",
    "\n",
    "You will be given a QUESTION and a STUDENT ANSWER. \n",
    "\n",
    "Here is the grade criteria to follow:\n",
    "(1) Ensure the STUDENT ANSWER is concise and relevant to the QUESTION\n",
    "(2) Ensure the STUDENT ANSWER helps to answer the QUESTION\n",
    "\n",
    "Relevance:\n",
    "A relevance value of True means that the student's answer meets all of the criteria.\n",
    "A relevance value of False means that the student's answer does not meet all of the criteria.\n",
    "\n",
    "Explain your reasoning in a step-by-step manner to ensure your reasoning and conclusion are correct. \n",
    "\n",
    "Avoid simply stating the correct answer at the outset.\"\"\"\n",
    "\n",
    "\n",
    "\n",
    "# Grader LLM\n",
    "relevance_llm = ChatOpenAI(model=\"gpt-4o\", temperature=0).with_structured_output(RelevanceGrade, method=\"json_schema\", strict=True)\n",
    "\n",
    "# Evaluator\n",
    "def relevance(inputs: dict, outputs: dict) -> bool:\n",
    "    \"\"\"A simple evaluator for RAG answer helpfulness.\"\"\"\n",
    "    answer = f\"QUESTION: {inputs['question']}\\nSTUDENT ANSWER: {outputs['answer']}\"\n",
    "    grade = relevance_llm.invoke([\n",
    "        {\"role\": \"system\", \"content\": relevance_instructions}, \n",
    "        {\"role\": \"user\", \"content\": answer}\n",
    "    ])\n",
    "    return grade[\"relevant\"]"
   ]
  },
  {
   "cell_type": "code",
   "execution_count": 48,
   "metadata": {},
   "outputs": [
    {
     "name": "stdout",
     "output_type": "stream",
     "text": [
      "View the evaluation results for experiment: 'rag-doc-relevance-0d2c2045' at:\n",
      "https://smith.langchain.com/o/8a8f5023-8b7e-4c2c-b2bc-eb849b90cbe6/datasets/2148b077-b0a4-439d-acf9-03e55035e9ff/compare?selectedSessions=9c44b658-7b28-4df7-b555-b313ea9658c3\n",
      "\n",
      "\n"
     ]
    },
    {
     "name": "stderr",
     "output_type": "stream",
     "text": [
      "6it [00:24,  4.01s/it]\n"
     ]
    }
   ],
   "source": [
    "def predict_rag_answer(example: dict):\n",
    "    \"\"\"Use this for answer evaluation\"\"\"\n",
    "    response = rag_dummy.get_answer(example[\"question\"])\n",
    "    return {\"answer\": response[\"answer\"]}\n",
    "\n",
    "dataset_name = \"Market Logic Dummy\"\n",
    "\n",
    "experiment_results = evaluate(\n",
    "    predict_rag_answer,\n",
    "    data=dataset_name,\n",
    "    evaluators=[relevance],\n",
    "    experiment_prefix=\"rag-doc-relevance\",\n",
    "    #metadata={\"version\": \"LCEL context, gpt-4-0125-preview\"},\n",
    ")\n",
    "# Explore results locally as a dataframe if you have pandas installed\n",
    "# experiment_results.to_pandas()"
   ]
  },
  {
   "cell_type": "code",
   "execution_count": 45,
   "metadata": {},
   "outputs": [],
   "source": [
    "from langsmith.evaluation import LangChainStringEvaluator, evaluate\n",
    "\n",
    "answer_hallucination_evaluator = LangChainStringEvaluator(\n",
    "    \"labeled_score_string\",\n",
    "    config={\n",
    "        \"criteria\": {\n",
    "            \"accuracy\": \"\"\"Is the Assistant's Answer grounded in the Ground Truth documentation? A score of 0 means that the Assistant answer contains is not at all based upon / grounded in the Ground Truth documentation. A score of 5 means that the Assistant answer contains some information (e.g., a hallucination) that is not captured in the Ground Truth documentation. A score of 10 means that the Assistant answer is fully based upon the in the Ground Truth documentation.\"\"\"\n",
    "        },\n",
    "        # If you want the score to be saved on a scale from 0 to 1\n",
    "        \"normalize_by\": 10,\n",
    "    },\n",
    "\n",
    "\n",
    "    prepare_data = lambda run, example: {\n",
    "        \"prediction\": run.outputs[\"answer\"],\n",
    "        \"reference\": run.outputs[\"contexts\"],\n",
    "        \"input\": example.inputs[\"question\"],\n",
    "    }\n",
    "\n",
    "\n",
    "\n",
    ")"
   ]
  },
  {
   "cell_type": "code",
   "execution_count": 47,
   "metadata": {},
   "outputs": [
    {
     "name": "stdout",
     "output_type": "stream",
     "text": [
      "View the evaluation results for experiment: 'rag-qa-oai-hallucination-4f350977' at:\n",
      "https://smith.langchain.com/o/8a8f5023-8b7e-4c2c-b2bc-eb849b90cbe6/datasets/2148b077-b0a4-439d-acf9-03e55035e9ff/compare?selectedSessions=a6037ba6-c93e-4fc8-9792-0d00be44a809\n",
      "\n",
      "\n"
     ]
    },
    {
     "name": "stderr",
     "output_type": "stream",
     "text": [
      "6it [00:34,  5.73s/it]\n"
     ]
    }
   ],
   "source": [
    "dataset_name = \"Market Logic Dummy\"\n",
    "\n",
    "experiment_results = evaluate(\n",
    "    predict_rag_answer_with_context,\n",
    "    data=dataset_name,\n",
    "    evaluators=[answer_hallucination_evaluator],\n",
    "    experiment_prefix=\"rag-qa-oai-hallucination\",\n",
    "    # Any experiment metadata can be specified here\n",
    "    metadata={\n",
    "        \"variant\": \"GPT\",\n",
    "    }    \n",
    ")"
   ]
  },
  {
   "cell_type": "code",
   "execution_count": null,
   "metadata": {},
   "outputs": [],
   "source": [
    "from langsmith.evaluation import LangChainStringEvaluator, evaluate\n",
    "\n",
    "# Define the QA evaluator\n",
    "qa_evaluator = [\n",
    "    LangChainStringEvaluator(\n",
    "        \"qa\", \n",
    "        prepare_data=lambda run, example: {\n",
    "            \"prediction\": run.outputs[\"answer\"], # Predicted answer from the RAG model\n",
    "            \"reference\": example.outputs[\"answer\"], # Ground truth answer\n",
    "            \"input\": example.inputs[\"question\"], # Input question\n",
    "        }\n",
    "    )\n",
    "]\n"
   ]
  },
  {
   "cell_type": "code",
   "execution_count": null,
   "metadata": {},
   "outputs": [
    {
     "name": "stdout",
     "output_type": "stream",
     "text": [
      "View the evaluation results for experiment: 'Eval-4o-d4e37b49' at:\n",
      "https://smith.langchain.com/o/becb2dbe-6434-46cc-a3fb-97dca03fd3ef/datasets/ae7530d4-d63d-4398-9055-bad5719058ea/compare?selectedSessions=df60cd89-f0bb-417d-a84d-94e9eb7da767\n",
      "\n",
      "\n"
     ]
    },
    {
     "name": "stderr",
     "output_type": "stream",
     "text": [
      "5it [00:17,  3.41s/it]\n"
     ]
    }
   ],
   "source": [
    "\n",
    "\n",
    "# # Define the dataset name\n",
    "# dataset_name = \"Market Logic Dummy\"\n",
    "\n",
    "# experiment_results = evaluate(\n",
    "#     predict_rag_answer,\n",
    "#     data=dataset_name, # Dataset to evaluate on\n",
    "#     evaluators=qa_evaluator, # Evaluator to use\n",
    "#     experiment_prefix=\"Eval-4o\", # Prefix for the experiment name\n",
    "\n",
    "# )\n",
    "\n",
    "\n"
   ]
  },
  {
   "cell_type": "code",
   "execution_count": 58,
   "metadata": {},
   "outputs": [],
   "source": [
    "from bert_score import score\n",
    "\n",
    "def compute_bertscore(prediction, reference):\n",
    "    \"\"\"Computes BERTScore and returns Precision, Recall, and F1.\"\"\"\n",
    "    P, R, F1 = score([prediction], [reference], lang=\"en\", model_type=\"microsoft/deberta-xlarge-mnli\")  \n",
    "    return P.item(), R.item(), F1.item()  # Convert tensors to floats"
   ]
  },
  {
   "cell_type": "code",
   "execution_count": 59,
   "metadata": {},
   "outputs": [],
   "source": [
    "def evaluate_bertscore(run, example):\n",
    "    \"\"\"Custom evaluator function.\"\"\"\n",
    "    prediction = run.outputs[\"answer\"]\n",
    "    reference = example.outputs[\"answer\"]\n",
    "   \n",
    "    #return {\"BERTScore_F1\": compute_bertscore(prediction, reference)}\n",
    "    P, R, F1 = compute_bertscore(prediction, reference)\n",
    "\n",
    "    return [\n",
    "        {\"key\": \"BERTScore_Precision\", \"score\": P},\n",
    "        {\"key\": \"BERTScore_Recall\", \"score\": R},\n",
    "        {\"key\": \"BERTScore_F1\", \"score\": F1},\n",
    "    ]\n",
    "\n",
    "# Use in LangSmith evaluation\n",
    "# experiment_results = evaluate(\n",
    "#     predict_rag_answer,\n",
    "#     data=dataset_name,\n",
    "#     evaluators=[evaluate_bertscore],  # Pass the function instead\n",
    "#     experiment_prefix=\"Eval-BERTScore\",\n",
    "# )\n"
   ]
  },
  {
   "cell_type": "code",
   "execution_count": 54,
   "metadata": {},
   "outputs": [],
   "source": [
    "from sentence_transformers import SentenceTransformer\n",
    "import torch\n",
    "\n",
    "# Load Sentence Transformer model\n",
    "model = SentenceTransformer(\"all-MiniLM-L6-v2\")\n",
    "\n",
    "def cosine_similarity(prediction: str, reference: str) -> float:\n",
    "    \"\"\"Compute cosine similarity between two texts.\"\"\"\n",
    "    pred_emb = model.encode(prediction, convert_to_tensor=True)\n",
    "    ref_emb = model.encode(reference, convert_to_tensor=True)\n",
    "\n",
    "    cosine_sim = torch.nn.functional.cosine_similarity(pred_emb, ref_emb, dim=0)\n",
    "    return cosine_sim.item()\n"
   ]
  },
  {
   "cell_type": "code",
   "execution_count": 60,
   "metadata": {},
   "outputs": [
    {
     "name": "stdout",
     "output_type": "stream",
     "text": [
      "View the evaluation results for experiment: 'Eval-CosineSim-ddfa5e9a' at:\n",
      "https://smith.langchain.com/o/becb2dbe-6434-46cc-a3fb-97dca03fd3ef/datasets/ae7530d4-d63d-4398-9055-bad5719058ea/compare?selectedSessions=70bef423-9582-44fd-857a-46570c19e1ef\n",
      "\n",
      "\n"
     ]
    },
    {
     "name": "stderr",
     "output_type": "stream",
     "text": [
      "5it [09:20, 112.03s/it]\n"
     ]
    }
   ],
   "source": [
    "def evaluate_cosine_similarity(run, example):\n",
    "    \"\"\"Custom evaluator function.\"\"\"\n",
    "    prediction = run.outputs[\"answer\"]\n",
    "    reference = example.outputs[\"answer\"]\n",
    "    #return {\"cosine_similarity\": cosine_similarity(prediction, reference)}\n",
    "    similarity_score = cosine_similarity(prediction, reference)\n",
    "    return {  \n",
    "        \"key\": \"cosine_similarity\",  # REQUIRED: Identifies the metric\n",
    "        \"score\": similarity_score     # REQUIRED: Numeric value for metric\n",
    "    }\n",
    "\n",
    "# Use in LangSmith evaluation\n",
    "experiment_results = evaluate(\n",
    "    predict_rag_answer,\n",
    "    data=dataset_name,\n",
    "    evaluators=[evaluate_cosine_similarity,evaluate_bertscore],  # Pass the function instead\n",
    "    experiment_prefix=\"Eval-CosineSim\",\n",
    ")\n"
   ]
  },
  {
   "cell_type": "code",
   "execution_count": null,
   "metadata": {},
   "outputs": [],
   "source": [
    "from sentence_transformers import SentenceTransformer\n",
    "from scipy.spatial.distance import cosine\n",
    "\n",
    "model = SentenceTransformer(\"all-MiniLM-L6-v2\")  # Lightweight embedding model\n",
    "\n",
    "def compute_generalization_score(prediction, reference, general_concept):\n",
    "    \"\"\"Checks how much the answer generalizes.\"\"\"\n",
    "    pred_emb = model.encode(prediction)\n",
    "    ref_emb = model.encode(reference)\n",
    "    general_emb = model.encode(general_concept)\n",
    "\n",
    "    similarity_to_ref = 1 - cosine(pred_emb, ref_emb)  # Closer to reference = better\n",
    "    similarity_to_general = 1 - cosine(pred_emb, general_emb)  # Closer to general = worse\n",
    "\n",
    "    score = similarity_to_ref - similarity_to_general  # Penalize generalization\n",
    "\n",
    "    return max(0, score)  # Normalize score to [0,1]\n",
    "\n",
    "def evaluate_generalization(run, example):\n",
    "    prediction = run.outputs[\"answer\"]\n",
    "    reference = example.outputs[\"answer\"]\n",
    "    general_concept = \"General summary of the topic\"  # Can be a predefined general description\n",
    "\n",
    "    score = compute_generalization_score(prediction, reference, general_concept)\n",
    "\n",
    "    \n",
    "    return [{\"key\": \"Generalization_Score\", \"score\": score}]\n"
   ]
  },
  {
   "cell_type": "code",
   "execution_count": 62,
   "metadata": {},
   "outputs": [
    {
     "name": "stdout",
     "output_type": "stream",
     "text": [
      "View the evaluation results for experiment: 'Eval-Gen-27e32fcb' at:\n",
      "https://smith.langchain.com/o/becb2dbe-6434-46cc-a3fb-97dca03fd3ef/datasets/ae7530d4-d63d-4398-9055-bad5719058ea/compare?selectedSessions=e540f6c0-d291-49e8-b5b7-b3a2fc435f0a\n",
      "\n",
      "\n"
     ]
    },
    {
     "name": "stderr",
     "output_type": "stream",
     "text": [
      "0it [00:00, ?it/s]Error running evaluator <DynamicRunEvaluator evaluate_generalization> on run 5881ffda-77f5-4ce9-a1c7-0a95d1457444: ValueError(\"Expected an EvaluationResult object, or dict with a metric 'key' and optional 'score'; got {'key': 'Generalization_Score', 'score': np.float32(0.910252)}\")\n",
      "Traceback (most recent call last):\n",
      "  File \"/opt/homebrew/lib/python3.13/site-packages/langsmith/evaluation/evaluator.py\", line 268, in _coerce_evaluation_result\n",
      "    return EvaluationResult(**{\"source_run_id\": source_run_id, **result})\n",
      "  File \"/opt/homebrew/lib/python3.13/site-packages/pydantic/v1/main.py\", line 341, in __init__\n",
      "    raise validation_error\n",
      "pydantic.v1.error_wrappers.ValidationError: 3 validation errors for EvaluationResult\n",
      "score\n",
      "  value is not a valid boolean (type=value_error.strictbool)\n",
      "score\n",
      "  value is not a valid integer (type=type_error.integer)\n",
      "score\n",
      "  value is not a valid float (type=type_error.float)\n",
      "\n",
      "The above exception was the direct cause of the following exception:\n",
      "\n",
      "Traceback (most recent call last):\n",
      "  File \"/opt/homebrew/lib/python3.13/site-packages/langsmith/evaluation/_runner.py\", line 1634, in _run_evaluators\n",
      "    evaluator_response = evaluator.evaluate_run(  # type: ignore[call-arg]\n",
      "        run=run,\n",
      "        example=example,\n",
      "        evaluator_run_id=evaluator_run_id,\n",
      "    )\n",
      "  File \"/opt/homebrew/lib/python3.13/site-packages/langsmith/evaluation/evaluator.py\", line 351, in evaluate_run\n",
      "    return self._format_result(result, evaluator_run_id)\n",
      "           ~~~~~~~~~~~~~~~~~~~^^^^^^^^^^^^^^^^^^^^^^^^^^\n",
      "  File \"/opt/homebrew/lib/python3.13/site-packages/langsmith/evaluation/evaluator.py\", line 304, in _format_result\n",
      "    return self._coerce_evaluation_results(result, source_run_id)\n",
      "           ~~~~~~~~~~~~~~~~~~~~~~~~~~~~~~~^^^^^^^^^^^^^^^^^^^^^^^\n",
      "  File \"/opt/homebrew/lib/python3.13/site-packages/langsmith/evaluation/evaluator.py\", line 283, in _coerce_evaluation_results\n",
      "    self._coerce_evaluation_result(r, source_run_id=source_run_id)\n",
      "    ~~~~~~~~~~~~~~~~~~~~~~~~~~~~~~^^^^^^^^^^^^^^^^^^^^^^^^^^^^^^^^\n",
      "  File \"/opt/homebrew/lib/python3.13/site-packages/langsmith/evaluation/evaluator.py\", line 270, in _coerce_evaluation_result\n",
      "    raise ValueError(\n",
      "    ...<2 lines>...\n",
      "    ) from e\n",
      "ValueError: Expected an EvaluationResult object, or dict with a metric 'key' and optional 'score'; got {'key': 'Generalization_Score', 'score': np.float32(0.910252)}\n",
      "1it [00:04,  4.34s/it]Error running evaluator <DynamicRunEvaluator evaluate_generalization> on run 6623cb89-4426-4473-8960-dfaec6357026: ValueError(\"Expected an EvaluationResult object, or dict with a metric 'key' and optional 'score'; got {'key': 'Generalization_Score', 'score': np.float32(0.72116077)}\")\n",
      "Traceback (most recent call last):\n",
      "  File \"/opt/homebrew/lib/python3.13/site-packages/langsmith/evaluation/evaluator.py\", line 268, in _coerce_evaluation_result\n",
      "    return EvaluationResult(**{\"source_run_id\": source_run_id, **result})\n",
      "  File \"/opt/homebrew/lib/python3.13/site-packages/pydantic/v1/main.py\", line 341, in __init__\n",
      "    raise validation_error\n",
      "pydantic.v1.error_wrappers.ValidationError: 3 validation errors for EvaluationResult\n",
      "score\n",
      "  value is not a valid boolean (type=value_error.strictbool)\n",
      "score\n",
      "  value is not a valid integer (type=type_error.integer)\n",
      "score\n",
      "  value is not a valid float (type=type_error.float)\n",
      "\n",
      "The above exception was the direct cause of the following exception:\n",
      "\n",
      "Traceback (most recent call last):\n",
      "  File \"/opt/homebrew/lib/python3.13/site-packages/langsmith/evaluation/_runner.py\", line 1634, in _run_evaluators\n",
      "    evaluator_response = evaluator.evaluate_run(  # type: ignore[call-arg]\n",
      "        run=run,\n",
      "        example=example,\n",
      "        evaluator_run_id=evaluator_run_id,\n",
      "    )\n",
      "  File \"/opt/homebrew/lib/python3.13/site-packages/langsmith/evaluation/evaluator.py\", line 351, in evaluate_run\n",
      "    return self._format_result(result, evaluator_run_id)\n",
      "           ~~~~~~~~~~~~~~~~~~~^^^^^^^^^^^^^^^^^^^^^^^^^^\n",
      "  File \"/opt/homebrew/lib/python3.13/site-packages/langsmith/evaluation/evaluator.py\", line 304, in _format_result\n",
      "    return self._coerce_evaluation_results(result, source_run_id)\n",
      "           ~~~~~~~~~~~~~~~~~~~~~~~~~~~~~~~^^^^^^^^^^^^^^^^^^^^^^^\n",
      "  File \"/opt/homebrew/lib/python3.13/site-packages/langsmith/evaluation/evaluator.py\", line 283, in _coerce_evaluation_results\n",
      "    self._coerce_evaluation_result(r, source_run_id=source_run_id)\n",
      "    ~~~~~~~~~~~~~~~~~~~~~~~~~~~~~~^^^^^^^^^^^^^^^^^^^^^^^^^^^^^^^^\n",
      "  File \"/opt/homebrew/lib/python3.13/site-packages/langsmith/evaluation/evaluator.py\", line 270, in _coerce_evaluation_result\n",
      "    raise ValueError(\n",
      "    ...<2 lines>...\n",
      "    ) from e\n",
      "ValueError: Expected an EvaluationResult object, or dict with a metric 'key' and optional 'score'; got {'key': 'Generalization_Score', 'score': np.float32(0.72116077)}\n",
      "2it [00:07,  3.86s/it]Error running evaluator <DynamicRunEvaluator evaluate_generalization> on run 0f190f40-1172-4af5-bbdb-d45c5e2dccf2: ValueError(\"Expected an EvaluationResult object, or dict with a metric 'key' and optional 'score'; got {'key': 'Generalization_Score', 'score': np.float32(0.7272903)}\")\n",
      "Traceback (most recent call last):\n",
      "  File \"/opt/homebrew/lib/python3.13/site-packages/langsmith/evaluation/evaluator.py\", line 268, in _coerce_evaluation_result\n",
      "    return EvaluationResult(**{\"source_run_id\": source_run_id, **result})\n",
      "  File \"/opt/homebrew/lib/python3.13/site-packages/pydantic/v1/main.py\", line 341, in __init__\n",
      "    raise validation_error\n",
      "pydantic.v1.error_wrappers.ValidationError: 3 validation errors for EvaluationResult\n",
      "score\n",
      "  value is not a valid boolean (type=value_error.strictbool)\n",
      "score\n",
      "  value is not a valid integer (type=type_error.integer)\n",
      "score\n",
      "  value is not a valid float (type=type_error.float)\n",
      "\n",
      "The above exception was the direct cause of the following exception:\n",
      "\n",
      "Traceback (most recent call last):\n",
      "  File \"/opt/homebrew/lib/python3.13/site-packages/langsmith/evaluation/_runner.py\", line 1634, in _run_evaluators\n",
      "    evaluator_response = evaluator.evaluate_run(  # type: ignore[call-arg]\n",
      "        run=run,\n",
      "        example=example,\n",
      "        evaluator_run_id=evaluator_run_id,\n",
      "    )\n",
      "  File \"/opt/homebrew/lib/python3.13/site-packages/langsmith/evaluation/evaluator.py\", line 351, in evaluate_run\n",
      "    return self._format_result(result, evaluator_run_id)\n",
      "           ~~~~~~~~~~~~~~~~~~~^^^^^^^^^^^^^^^^^^^^^^^^^^\n",
      "  File \"/opt/homebrew/lib/python3.13/site-packages/langsmith/evaluation/evaluator.py\", line 304, in _format_result\n",
      "    return self._coerce_evaluation_results(result, source_run_id)\n",
      "           ~~~~~~~~~~~~~~~~~~~~~~~~~~~~~~~^^^^^^^^^^^^^^^^^^^^^^^\n",
      "  File \"/opt/homebrew/lib/python3.13/site-packages/langsmith/evaluation/evaluator.py\", line 283, in _coerce_evaluation_results\n",
      "    self._coerce_evaluation_result(r, source_run_id=source_run_id)\n",
      "    ~~~~~~~~~~~~~~~~~~~~~~~~~~~~~~^^^^^^^^^^^^^^^^^^^^^^^^^^^^^^^^\n",
      "  File \"/opt/homebrew/lib/python3.13/site-packages/langsmith/evaluation/evaluator.py\", line 270, in _coerce_evaluation_result\n",
      "    raise ValueError(\n",
      "    ...<2 lines>...\n",
      "    ) from e\n",
      "ValueError: Expected an EvaluationResult object, or dict with a metric 'key' and optional 'score'; got {'key': 'Generalization_Score', 'score': np.float32(0.7272903)}\n",
      "3it [00:09,  2.69s/it]Error running evaluator <DynamicRunEvaluator evaluate_generalization> on run ae128e5c-c689-4f0a-b4c6-4c5e41bb0b52: ValueError(\"Expected an EvaluationResult object, or dict with a metric 'key' and optional 'score'; got {'key': 'Generalization_Score', 'score': np.float32(0.737541)}\")\n",
      "Traceback (most recent call last):\n",
      "  File \"/opt/homebrew/lib/python3.13/site-packages/langsmith/evaluation/evaluator.py\", line 268, in _coerce_evaluation_result\n",
      "    return EvaluationResult(**{\"source_run_id\": source_run_id, **result})\n",
      "  File \"/opt/homebrew/lib/python3.13/site-packages/pydantic/v1/main.py\", line 341, in __init__\n",
      "    raise validation_error\n",
      "pydantic.v1.error_wrappers.ValidationError: 3 validation errors for EvaluationResult\n",
      "score\n",
      "  value is not a valid boolean (type=value_error.strictbool)\n",
      "score\n",
      "  value is not a valid integer (type=type_error.integer)\n",
      "score\n",
      "  value is not a valid float (type=type_error.float)\n",
      "\n",
      "The above exception was the direct cause of the following exception:\n",
      "\n",
      "Traceback (most recent call last):\n",
      "  File \"/opt/homebrew/lib/python3.13/site-packages/langsmith/evaluation/_runner.py\", line 1634, in _run_evaluators\n",
      "    evaluator_response = evaluator.evaluate_run(  # type: ignore[call-arg]\n",
      "        run=run,\n",
      "        example=example,\n",
      "        evaluator_run_id=evaluator_run_id,\n",
      "    )\n",
      "  File \"/opt/homebrew/lib/python3.13/site-packages/langsmith/evaluation/evaluator.py\", line 351, in evaluate_run\n",
      "    return self._format_result(result, evaluator_run_id)\n",
      "           ~~~~~~~~~~~~~~~~~~~^^^^^^^^^^^^^^^^^^^^^^^^^^\n",
      "  File \"/opt/homebrew/lib/python3.13/site-packages/langsmith/evaluation/evaluator.py\", line 304, in _format_result\n",
      "    return self._coerce_evaluation_results(result, source_run_id)\n",
      "           ~~~~~~~~~~~~~~~~~~~~~~~~~~~~~~~^^^^^^^^^^^^^^^^^^^^^^^\n",
      "  File \"/opt/homebrew/lib/python3.13/site-packages/langsmith/evaluation/evaluator.py\", line 283, in _coerce_evaluation_results\n",
      "    self._coerce_evaluation_result(r, source_run_id=source_run_id)\n",
      "    ~~~~~~~~~~~~~~~~~~~~~~~~~~~~~~^^^^^^^^^^^^^^^^^^^^^^^^^^^^^^^^\n",
      "  File \"/opt/homebrew/lib/python3.13/site-packages/langsmith/evaluation/evaluator.py\", line 270, in _coerce_evaluation_result\n",
      "    raise ValueError(\n",
      "    ...<2 lines>...\n",
      "    ) from e\n",
      "ValueError: Expected an EvaluationResult object, or dict with a metric 'key' and optional 'score'; got {'key': 'Generalization_Score', 'score': np.float32(0.737541)}\n",
      "4it [00:10,  2.10s/it]Error running evaluator <DynamicRunEvaluator evaluate_generalization> on run 6adc9e88-833c-463b-abdf-54e71269e3b8: ValueError(\"Expected an EvaluationResult object, or dict with a metric 'key' and optional 'score'; got {'key': 'Generalization_Score', 'score': np.float32(0.6239143)}\")\n",
      "Traceback (most recent call last):\n",
      "  File \"/opt/homebrew/lib/python3.13/site-packages/langsmith/evaluation/evaluator.py\", line 268, in _coerce_evaluation_result\n",
      "    return EvaluationResult(**{\"source_run_id\": source_run_id, **result})\n",
      "  File \"/opt/homebrew/lib/python3.13/site-packages/pydantic/v1/main.py\", line 341, in __init__\n",
      "    raise validation_error\n",
      "pydantic.v1.error_wrappers.ValidationError: 3 validation errors for EvaluationResult\n",
      "score\n",
      "  value is not a valid boolean (type=value_error.strictbool)\n",
      "score\n",
      "  value is not a valid integer (type=type_error.integer)\n",
      "score\n",
      "  value is not a valid float (type=type_error.float)\n",
      "\n",
      "The above exception was the direct cause of the following exception:\n",
      "\n",
      "Traceback (most recent call last):\n",
      "  File \"/opt/homebrew/lib/python3.13/site-packages/langsmith/evaluation/_runner.py\", line 1634, in _run_evaluators\n",
      "    evaluator_response = evaluator.evaluate_run(  # type: ignore[call-arg]\n",
      "        run=run,\n",
      "        example=example,\n",
      "        evaluator_run_id=evaluator_run_id,\n",
      "    )\n",
      "  File \"/opt/homebrew/lib/python3.13/site-packages/langsmith/evaluation/evaluator.py\", line 351, in evaluate_run\n",
      "    return self._format_result(result, evaluator_run_id)\n",
      "           ~~~~~~~~~~~~~~~~~~~^^^^^^^^^^^^^^^^^^^^^^^^^^\n",
      "  File \"/opt/homebrew/lib/python3.13/site-packages/langsmith/evaluation/evaluator.py\", line 304, in _format_result\n",
      "    return self._coerce_evaluation_results(result, source_run_id)\n",
      "           ~~~~~~~~~~~~~~~~~~~~~~~~~~~~~~~^^^^^^^^^^^^^^^^^^^^^^^\n",
      "  File \"/opt/homebrew/lib/python3.13/site-packages/langsmith/evaluation/evaluator.py\", line 283, in _coerce_evaluation_results\n",
      "    self._coerce_evaluation_result(r, source_run_id=source_run_id)\n",
      "    ~~~~~~~~~~~~~~~~~~~~~~~~~~~~~~^^^^^^^^^^^^^^^^^^^^^^^^^^^^^^^^\n",
      "  File \"/opt/homebrew/lib/python3.13/site-packages/langsmith/evaluation/evaluator.py\", line 270, in _coerce_evaluation_result\n",
      "    raise ValueError(\n",
      "    ...<2 lines>...\n",
      "    ) from e\n",
      "ValueError: Expected an EvaluationResult object, or dict with a metric 'key' and optional 'score'; got {'key': 'Generalization_Score', 'score': np.float32(0.6239143)}\n",
      "5it [00:12,  2.53s/it]\n"
     ]
    }
   ],
   "source": [
    "# Use in LangSmith evaluation\n",
    "experiment_results = evaluate(\n",
    "    predict_rag_answer,\n",
    "    data=dataset_name,\n",
    "    evaluators=[evaluate_generalization],  # Pass the function instead\n",
    "    experiment_prefix=\"Eval-Gen\",\n",
    ")"
   ]
  },
  {
   "cell_type": "code",
   "execution_count": 1,
   "metadata": {},
   "outputs": [
    {
     "ename": "TypeError",
     "evalue": "Client.create_example() got an unexpected keyword argument 'examples'",
     "output_type": "error",
     "traceback": [
      "\u001b[31m---------------------------------------------------------------------------\u001b[39m",
      "\u001b[31mTypeError\u001b[39m                                 Traceback (most recent call last)",
      "\u001b[36mCell\u001b[39m\u001b[36m \u001b[39m\u001b[32mIn[1]\u001b[39m\u001b[32m, line 199\u001b[39m\n\u001b[32m      9\u001b[39m example_data = [\n\u001b[32m     10\u001b[39m \n\u001b[32m     11\u001b[39m   {\n\u001b[32m   (...)\u001b[39m\u001b[32m    194\u001b[39m   }\n\u001b[32m    195\u001b[39m ]\n\u001b[32m    198\u001b[39m \u001b[38;5;66;03m# Create the example\u001b[39;00m\n\u001b[32m--> \u001b[39m\u001b[32m199\u001b[39m example = \u001b[43mclient\u001b[49m\u001b[43m.\u001b[49m\u001b[43mcreate_example\u001b[49m\u001b[43m(\u001b[49m\n\u001b[32m    200\u001b[39m \u001b[43m    \u001b[49m\u001b[43mdataset_id\u001b[49m\u001b[43m=\u001b[49m\u001b[43mdataset_id\u001b[49m\u001b[43m,\u001b[49m\n\u001b[32m    201\u001b[39m \u001b[43m    \u001b[49m\u001b[43mexamples\u001b[49m\u001b[43m=\u001b[49m\u001b[43m[\u001b[49m\u001b[43mexample_data\u001b[49m\u001b[43m]\u001b[49m\n\u001b[32m    202\u001b[39m \u001b[43m)\u001b[49m\n\u001b[32m    204\u001b[39m \u001b[38;5;28mprint\u001b[39m(\u001b[33mf\u001b[39m\u001b[33m\"\u001b[39m\u001b[33mExample created with ID: \u001b[39m\u001b[38;5;132;01m{\u001b[39;00mexample.id\u001b[38;5;132;01m}\u001b[39;00m\u001b[33m\"\u001b[39m)\n",
      "\u001b[36mFile \u001b[39m\u001b[32m/Library/Frameworks/Python.framework/Versions/3.11/lib/python3.11/site-packages/langsmith/utils.py:138\u001b[39m, in \u001b[36mxor_args.<locals>.decorator.<locals>.wrapper\u001b[39m\u001b[34m(*args, **kwargs)\u001b[39m\n\u001b[32m    132\u001b[39m     invalid_group_names = [\u001b[33m\"\u001b[39m\u001b[33m, \u001b[39m\u001b[33m\"\u001b[39m.join(arg_groups[i]) \u001b[38;5;28;01mfor\u001b[39;00m i \u001b[38;5;129;01min\u001b[39;00m invalid_groups]\n\u001b[32m    133\u001b[39m     \u001b[38;5;28;01mraise\u001b[39;00m \u001b[38;5;167;01mValueError\u001b[39;00m(\n\u001b[32m    134\u001b[39m         \u001b[33m\"\u001b[39m\u001b[33mExactly one argument in each of the following\u001b[39m\u001b[33m\"\u001b[39m\n\u001b[32m    135\u001b[39m         \u001b[33m\"\u001b[39m\u001b[33m groups must be defined:\u001b[39m\u001b[33m\"\u001b[39m\n\u001b[32m    136\u001b[39m         \u001b[33mf\u001b[39m\u001b[33m\"\u001b[39m\u001b[33m \u001b[39m\u001b[38;5;132;01m{\u001b[39;00m\u001b[33m'\u001b[39m\u001b[33m, \u001b[39m\u001b[33m'\u001b[39m.join(invalid_group_names)\u001b[38;5;132;01m}\u001b[39;00m\u001b[33m\"\u001b[39m\n\u001b[32m    137\u001b[39m     )\n\u001b[32m--> \u001b[39m\u001b[32m138\u001b[39m \u001b[38;5;28;01mreturn\u001b[39;00m \u001b[43mfunc\u001b[49m\u001b[43m(\u001b[49m\u001b[43m*\u001b[49m\u001b[43margs\u001b[49m\u001b[43m,\u001b[49m\u001b[43m \u001b[49m\u001b[43m*\u001b[49m\u001b[43m*\u001b[49m\u001b[43mkwargs\u001b[49m\u001b[43m)\u001b[49m\n",
      "\u001b[31mTypeError\u001b[39m: Client.create_example() got an unexpected keyword argument 'examples'"
     ]
    }
   ],
   "source": [
    "from langsmith import Client\n",
    "\n",
    "client = Client()\n",
    "\n",
    "# Replace with the actual dataset ID\n",
    "dataset_id = \"ds\"\n",
    "\n",
    "# Example data\n",
    "example_data = [\n",
    "\n",
    "  {\n",
    "    \"inputs\": {\n",
    "      \"question\": \"How much meat consumers are eating compared to year ago?\"\n",
    "    },\n",
    "    \"outputs\": {\n",
    "      \"answer\": \"### Overview of Meat Consumption Changes\\n\\nRecent data indicates a significant shift in meat consumption among consumers in Europe and specifically in Germany, with many reporting a decrease in their meat intake compared to the previous year.\\n\\n#### General Trends in Europe\\n- A survey indicated that **46% of Europeans** are eating less meat than they did a year ago. This includes both omnivores and flexitarians, with nearly **73% of flexitarians** stating they are reducing their meat consumption significantly [01-02].\\n- Flexitarians are particularly influential in this trend, with **63%** intending to further reduce their meat consumption in the next six months [01-02].\\n\\n#### Specific Findings from Germany\\n- In Germany, **51% of consumers** reported eating less meat compared to a year ago. This includes **17%** who are eating a lot less and **34%** who are eating slightly less [02-01].\\n- The consumption patterns reflect a broader trend towards plant-based alternatives, with many consumers increasingly opting for plant-based products over traditional meat options.\\n\\n### Summary of Consumer Behavior\\n- The data suggests a clear trend towards reduced meat consumption across Europe, driven largely by flexitarian consumers who are actively seeking to lower their meat intake for health and environmental reasons.\\n- In Germany, the trend is similarly pronounced, with over half of the population reporting a decrease in meat consumption.\\n\\n### Implications for the Market\\nThese shifts in consumer behavior highlight the growing demand for plant-based alternatives and suggest that food producers may need to adapt their offerings to meet the changing preferences of consumers.\"\n",
    "    }\n",
    "  },\n",
    "  {\n",
    "    \"inputs\": {\n",
    "      \"question\": \"How are you?\"\n",
    "    },\n",
    "    \"outputs\": {\n",
    "      \"answer\": \"I appreciate your inquiry! As an AI, I don't have emotions, but I'm here and ready to assist you. How can I help you today?\"\n",
    "    }\n",
    "  },\n",
    "  {\n",
    "    \"inputs\": {\n",
    "      \"question\": \"How is AI affecting the FMCG industry?\"\n",
    "    },\n",
    "    \"outputs\": {\n",
    "      \"answer\": \"AI is significantly affecting the Fast-Moving Consumer Goods (FMCG) industry across various dimensions, including consumer behavior, product innovation, supply chain management, and marketing strategies. Here’s a detailed exploration of these impacts based on the provided sources:\\n\\n### 1. Consumer Behavior and Expectations\\nThe **Nielsen Guide to 2025 Mid Year Consumer Outlook** indicates a shift in consumer behavior towards more intentional purchasing decisions. This change is influenced by several factors, including the rise of GLP-1 medications, which have led to lifestyle changes among consumers. Additionally, there is a growing acceptance of AI in shopping experiences, with 40% of consumers expressing willingness to accept product recommendations from AI assistants [01-01][01-02]. Younger generations, particularly Gen Z and Millennials, are more open to leveraging AI for automating shopping decisions, highlighting a generational divide in the acceptance of technology [01-02].\\n\\n### 2. Product Innovation\\nThe **State of the Industry Report on Plant-Based Products** showcases how AI is being utilized in the development of plant-based alternatives. Companies like NotCo and Climax Foods are employing AI to create products that closely mimic the taste and texture of traditional animal products. This innovation is crucial as consumer demand for sustainable and health-conscious options continues to rise [02-01]. The ability of AI to analyze flavor compounds and optimize formulations allows these companies to meet consumer expectations effectively.\\n\\n### 3. Supply Chain Efficiency\\nAI is also transforming supply chain management within the FMCG sector. The **Future of Seamless Shopping** report highlights the increasing reliance on digital assistants and automated systems to streamline shopping experiences. This trend is indicative of a broader movement towards automation in retail, where AI technologies are used to enhance operational efficiencies, reduce costs, and improve customer service [04-01][04-02]. For instance, AI-driven tools are being developed to optimize inventory management and minimize food waste, which is particularly relevant in the context of rising food costs and labor shortages [08][09].\\n\\n### 4. Marketing Strategies\\nThe **Nourish Food Marketing Trend Report** emphasizes that AI is now embedded in various marketing processes, from data analysis to consumer engagement. Marketers are increasingly leveraging AI to gain insights into consumer preferences and behaviors, allowing for more targeted and effective marketing strategies [03-01][03-02]. The integration of AI into marketing not only enhances efficiency but also enables brands to respond more rapidly to changing consumer trends.\\n\\n### 5. Future Trends and Projections\\nThe **Forbes article** on AI trends in the food industry projects significant growth in the AI-driven foodtech market, expected to reach $27.73 billion by 2029. This growth is fueled by the demand for personalized nutrition, stricter safety standards, and supply chain optimization [08]. As AI technologies continue to evolve, they are likely to redefine how food is produced, distributed, and consumed, paving the way for a future where precision nutrition becomes the norm.\\n\\nIn summary, AI is reshaping the FMCG industry by enhancing consumer engagement, driving product innovation, improving supply chain efficiencies, and transforming marketing strategies. The integration of AI technologies is not only a response to current consumer demands but also a proactive approach to future-proofing businesses in a rapidly evolving market landscape.\"\n",
    "    }\n",
    "  },\n",
    "  {\n",
    "    \"inputs\": {\n",
    "      \"question\": \"How is Nestlé adapting its strategy and products to meet changing consumer preferences and behaviors?\"\n",
    "    },\n",
    "    \"outputs\": {\n",
    "      \"answer\": \"## Nestlé's Shift Towards Health and Wellness\\n\\nBased on the provided information, it appears that Nestlé has been shifting its focus away from traditional food and beverage products towards the health and wellness sector in recent years. This strategic shift seems to be driven by changing consumer preferences and behaviors towards healthier options.\\n\\n### Divestments in Traditional Food Categories\\n\\nThe documents indicate that Nestlé has been reducing its exposure to certain traditional food categories:\\n\\n- Nestlé divested its European frozen pizza business in 2023, a European charcuterie and dough business in 2019, and its US ice cream business in 2016. \\n- In 2018, Nestlé sold its US confectionery business to Ferrero. \\n\\n### Acquisitions in Supplements and Nutraceuticals\\n\\nIn contrast, Nestlé has been actively acquiring companies in the supplement and nutraceutical space, indicating a strategic focus on health and wellness:\\n\\n- Over the recent period, Nestlé made numerous acquisitions in the supplement and nutraceutical business, including Puravida, Better Health Co., Bountiful Co., Vital Proteins, and Zenprep, among others. \\n\\n### Focus on Health, Wellness, and Emerging Markets\\n\\nThe provided information also highlights that Nestlé's key growth strategy is centered around health and wellness, as well as emerging markets:\\n\\n- \\\"Health and nutrition and emerging markets is Nestlé's key growth strategy.\\\" \\n\\nIn summary, the documents suggest that Nestlé is adapting its strategy and product portfolio to meet changing consumer preferences by divesting from certain traditional food categories and acquiring companies in the health, wellness, and nutraceutical sectors. This strategic shift appears to be driven by consumer demand for healthier options.\"\n",
    "    }\n",
    "  },\n",
    "  {\n",
    "    \"inputs\": {\n",
    "      \"question\": \"サステナビリティに関する最新のトレンドは何ですか?\"\n",
    "    },\n",
    "    \"outputs\": {\n",
    "      \"answer\": \"### サステナビリティに関する最新のトレンド\\n\\nサステナビリティは、消費者の購買決定においてますます重要な要素となっています。以下に、最近のトレンドをいくつか挙げます。\\n\\n#### 1. 消費者の意識の変化\\n- **経済的安定と環境意識**: 2023年には、消費者の経済的な見通しが改善される中で、環境保護が再び重要な購買決定要因として浮上しています。特に、気候変動に対する懸念が高まっており、年齢層を問わず多くの消費者がこの問題を深刻に捉えています[08]。\\n- **世代間の意識の差**: 若い世代だけでなく、高齢者も気候変動を深刻な問題と認識するようになってきています。2021年には、15歳から19歳の72%が気候変動を非常に深刻な問題と考えていましたが、2023年にはその割合が73%に達しました[08]。\\n\\n#### 2. サステナブルな製品への需要\\n- **持続可能な製品の選好**: 消費者の約66%が、持続可能な製品に対してより高い価格を支払う意向を示しています。特にミレニアル世代では、この割合が73%に達します[03-01]。\\n- **エネルギー効率の高い製品の人気**: EUのエネルギーラベル制度の導入により、エネルギー効率の高い家電製品の販売が急増しています。特にAクラスの家電製品は、特定の国で80%以上の市場シェアを占めるようになっています[08]。\\n\\n#### 3. 規制と透明性の重要性\\n- **規制の強化**: サステナビリティに関する規制が強化されており、企業は透明性を求められています。特に、サステナビリティに関する主張が誤解を招くものであった場合、法的なリスクが伴うことが指摘されています[01-01][01-02]。\\n- **標準化の必要性**: 企業は、サステナビリティのパフォーマンスを評価するための標準化されたツールや指標の欠如が最大の課題であると認識しています。79%のファッション業界の経営者がこの点を挙げています[01-01]。\\n\\n#### 4. 企業の取り組み\\n- **サステナビリティ戦略の見直し**: 多くの企業が、過去のサステナビリティ戦略を見直し、現実的な目標を設定する必要性を感じています。特に、COP29以降、企業は新たな戦略を策定し、実行に移すことが求められています[06]。\\n- **技術革新の活用**: AIやデジタルツールを活用して、消費者に対してよりパーソナライズされた製品やサービスを提供する動きが進んでいます[03-01]。\\n\\n### 結論\\nサステナビリティは、消費者の購買行動において重要な要素であり、企業はこのトレンドに対応するために戦略を見直し、透明性を高める必要があります。規制の強化や消費者の意識の変化に応じて、持続可能な製品の需要は今後も増加することが予想されます。\"\n",
    "    }\n",
    "  },\n",
    "  {\n",
    "    \"inputs\": {\n",
    "      \"question\": \"最新の食のトレンドとは？\"\n",
    "    },\n",
    "    \"outputs\": {\n",
    "      \"answer\": \"### Latest Food Trends\\n\\nThe food industry is currently experiencing a dynamic shift characterized by several key trends that reflect changing consumer preferences and behaviors. Below are the most prominent trends identified from various sources:\\n\\n#### 1. **Health and Wellness Focus**\\nConsumers are increasingly prioritizing health and wellness in their food choices. This includes a proactive approach to nutrition, with a demand for functional foods that promote physical, mental, and emotional well-being. Products that offer benefits such as sustained energy, immunity support, and overall health are gaining traction. Notably, 80% of consumers plan to eat and drink more healthily compared to previous years [03-01].\\n\\n#### 2. **Plant-Based Innovation**\\nThe plant-based food boom continues to expand beyond traditional offerings. Consumers are experimenting with plant-based options not only for health reasons but also for sustainability and convenience. Reports indicate that 71% of global consumers find \\\"plant-based\\\" concepts appealing, and 65% are consuming more plant-based foods [03-02]. This trend is also reflected in the growing interest in alternative proteins and innovative plant-based products that cater to flexitarian diets.\\n\\n#### 3. **Flavor Exploration and Mashups**\\nThere is a notable trend towards flavor experimentation, particularly among younger consumers. Mashups—combining two or more dishes or flavors—are becoming increasingly popular, with examples like birria ramen and hot honey gaining attention [09]. This trend is driven by social media, where 84% of consumers seeking new flavors cite it as their primary source of inspiration [11].\\n\\n#### 4. **Snackification**\\nThe concept of \\\"snackification\\\" is reshaping meal structures, with mini-meals and snacks replacing traditional dining formats. This trend reflects a shift in eating occasions, where consumers prefer flexible, on-the-go options that fit their busy lifestyles [04-03]. The popularity of items like charcuterie boards and shareable platters highlights this change in dining behavior.\\n\\n#### 5. **Sustainability and Transparency**\\nSustainability remains a critical concern for consumers, with a strong demand for transparency in food sourcing and production. Consumers are increasingly looking for products that reflect their values, including those that are sustainably produced and have clear labeling regarding their origins [03-03]. This trend is further emphasized by the rise of upcycling in food production, where waste ingredients are repurposed into new products [02-01].\\n\\n#### 6. **Spicy and Sweet Heat Combinations**\\nThe trend of combining sweet and spicy flavors, referred to as \\\"swicy,\\\" is gaining popularity. This includes dishes that incorporate ingredients like chili-infused honey and various spicy sauces, appealing particularly to younger diners who are seeking bold flavors [10].\\n\\n#### 7. **Functional Foods and Medicinal Ingredients**\\nThe pandemic has heightened interest in functional foods that offer health benefits, such as medicinal mushrooms and supergrains. Consumers are increasingly turning to these foods for their potential health advantages, including anti-inflammatory properties and cholesterol management [10].\\n\\n### Conclusion\\nThe food landscape is evolving rapidly, driven by consumer demands for health, sustainability, and innovative flavors. Brands that can adapt to these trends and offer products that align with consumer values are likely to succeed in this competitive market.\"\n",
    "    }\n",
    "  },\n",
    "  {\n",
    "    \"inputs\": {\n",
    "      \"question\": \"植物性食品的趋势是什么？\"\n",
    "    },\n",
    "    \"outputs\": {\n",
    "      \"answer\": \"### Trends in Plant-Based Foods\\n\\nThe plant-based food sector is experiencing significant growth and transformation, driven by evolving consumer preferences, health consciousness, and sustainability concerns. Here are the key trends identified across various sources:\\n\\n#### 1. Rise of Flexitarianism\\nFlexitarian diets, which emphasize plant-based foods while allowing for occasional meat consumption, are gaining traction. This demographic is crucial for the plant-based market, as they seek products that replicate the taste and texture of animal-based foods without completely eliminating them from their diets. Companies are focusing on optimizing their plant-based offerings to meet the expectations of flexitarian consumers, emphasizing taste, texture, and nutritional profiles [11][06].\\n\\n#### 2. Clean Labels and Transparency\\nConsumers are increasingly demanding transparency regarding product ingredients and sourcing. The importance of clear labeling has risen, with 76% of shoppers affirming the need for transparent product information [07]. This trend is pushing brands to adopt clean label practices, using fewer and more recognizable ingredients, which enhances consumer trust and loyalty [11][07].\\n\\n#### 3. Hybrid Proteins\\nThe innovation of hybrid proteins, which combine plant-based ingredients with proteins derived from fermentation or cultured meat, is emerging as a significant trend. This approach aims to enhance the sensory and nutritional qualities of plant-based products, making them more appealing to consumers [11]. The potential for hybrid proteins to meet both health and sustainability goals is being recognized as a key area for future growth [11].\\n\\n#### 4. Health and Wellness Focus\\nThere is a growing consumer interest in health and wellness, leading to increased demand for plant-based foods that offer functional benefits. Products fortified with vitamins, minerals, and other health-promoting ingredients are becoming more popular. This trend is reflected in the rise of beverages and snacks that not only satisfy hunger but also contribute to overall health [08][06].\\n\\n#### 5. Sustainability and Environmental Impact\\nSustainability remains a critical driver in the plant-based food sector. Consumers are increasingly aware of the environmental impact of their food choices, leading to a preference for products that are sustainably sourced and packaged. Brands are responding by adopting eco-friendly practices and materials, which resonate with environmentally conscious consumers [08][06].\\n\\n#### 6. Diversification of Product Offerings\\nThe plant-based market is diversifying beyond traditional meat substitutes to include a wide range of products such as dairy alternatives, snacks, and beverages. This diversification allows brands to cater to various dietary preferences and expand their market reach [06][11]. For instance, the introduction of plant-based aquatic ingredients and innovative flavors is gaining popularity [10].\\n\\n### Conclusion\\nThe plant-based food industry is at a pivotal moment, characterized by the rise of flexitarianism, a focus on clean labels, the innovation of hybrid proteins, and a strong emphasis on health and sustainability. Brands that effectively respond to these trends are likely to thrive in this evolving market landscape.\"\n",
    "    }\n",
    "  },\n",
    "  {\n",
    "    \"inputs\": {\n",
    "      \"question\": \"Was sind die Herausforderungen bei der Omnichannel in den USA?\"\n",
    "    },\n",
    "    \"outputs\": {\n",
    "      \"answer\": \"### Herausforderungen bei der Omnichannel in den USA\\n\\nDie Implementierung von Omnichannel-Strategien in den USA steht vor mehreren Herausforderungen, die sowohl technologische als auch betriebliche Aspekte betreffen. Die wichtigsten Herausforderungen sind:\\n\\n1. **Integration der Kanäle**: Viele Einzelhändler und Hersteller haben Schwierigkeiten, ihre Online- und Offline-Geschäfte nahtlos zu integrieren. Nur 30% der Hersteller und 22% der Einzelhändler haben ihre digitalen Marketing- und Merchandising-Assets integriert, was die Schaffung eines echten Omnichannel-Erlebnisses behindert [04].\\n\\n2. **Digitale Bereitschaft**: Eine Studie zeigt, dass nur 30% der Hersteller und 10% der Einzelhändler glauben, dass sie bereit für eine digitale Transformation sind. Dies deutet darauf hin, dass sowohl Hersteller als auch Einzelhändler in Bezug auf digitale Kompetenzen und Technologien hinterherhinken [04].\\n\\n3. **Wettbewerbsdruck**: Der Wettbewerb im Einzelhandel ist intensiv, insbesondere durch die Dominanz von Plattformen wie Amazon, die über umfangreiche Ressourcen und Daten verfügen. Dies zwingt Einzelhändler dazu, ihre Strategien zu überdenken und sich an die sich schnell ändernden Verbraucherbedürfnisse anzupassen [03].\\n\\n4. **Kosten und Margen**: Die Kosten für digitales Marketing und die Rücklaufquoten im E-Commerce belasten die Rentabilität. Marken müssen zwischen verschiedenen Vertriebskanälen diversifizieren, um profitabel zu bleiben, was zusätzliche Komplexität und Kosten mit sich bringt [02].\\n\\n5. **Verbraucherverhalten**: Die Verbraucher nutzen zunehmend mehrere Kanäle gleichzeitig, was die Marketingstrategien kompliziert. Über 22% der Käufer planen, einen Einkauf im Geschäft mit einer vorherigen Online-Bestellung zu kombinieren, was eine präzise Abstimmung der Marketingmaßnahmen erfordert [07].\\n\\n6. **Technologische Anforderungen**: Die Notwendigkeit, neue Technologien zu implementieren, um die Omnichannel-Strategie zu unterstützen, ist eine weitere Herausforderung. Einzelhändler müssen in IT, Fulfillment und Kundenbeziehungsmanagement investieren, um wettbewerbsfähig zu bleiben [01].\\n\\n7. **Finanzielle Belastungen der Verbraucher**: Die steigenden Lebenshaltungskosten und die stagnierenden Löhne beeinflussen das Kaufverhalten der Verbraucher. Dies führt zu einem erhöhten Druck auf die Einzelhändler, ihre Angebote und Preisstrategien anzupassen, um die Kaufkraft der Verbraucher zu berücksichtigen [07].\\n\\nInsgesamt erfordert die erfolgreiche Umsetzung von Omnichannel-Strategien in den USA eine umfassende Anpassung an die sich verändernden Marktbedingungen, technologische Investitionen und ein tiefes Verständnis des Verbraucherverhaltens.\"\n",
    "    }\n",
    "  },\n",
    "  {\n",
    "    \"inputs\": {\n",
    "      \"question\": \"What are trends in sustainable shopping?\"\n",
    "    },\n",
    "    \"outputs\": {\n",
    "      \"answer\": \"## Consumer Attitudes Towards Sustainable Shopping\\n\\nEvidence suggests that sustainability is increasingly influencing consumer behavior and is no longer just a passing trend:\\n\\n- A report states that \\\"sustainability is no longer a trend but a consumer movement\\\" for shoppers. Retailers that genuinely embed sustainability into their strategies will resonate with consumers despite economic condition.\\n\\n- Major retailers like John Lewis are introducing new sustainable product lines like a \\\"circular clothing collection\\\" to cater to changing consumer attitudes favoring sustainable consumption [TrendHunter.com].\\n\\n## Growth of Sustainable E-Commerce\\n\\nThe rise of e-commerce is fueling growth in sustainable online shopping options:\\n\\n- In 2024, there were over 26.5 million e-commerce brands worldwide, with more than half originating in the U.S. \\n- This large number of e-commerce brands provides more opportunities for consumers to discover and purchase from sustainable online retailers.\\n\\n## Categories Driving Sustainable Shopping\\n\\nConsumer demand for sustainable products appears highest in certain categories:\\n\\n- A survey found that the top categories for sustainable shopping were food products (60%), household goods (55%), beauty and wellness (36%), and consumer electronics (22%) \\n- Retailers in these high-demand categories may need to prioritize sustainable product offerings and business practices to meet evolving consumer preferences.\\n\\nIn summary, sustainable shopping is transitioning from a niche trend to a broader consumer movement, driven by changing attitudes, e-commerce growth, and demand in specific product categories like food, household goods, and personal care.\\n\\n\"\n",
    "    }\n",
    "  },\n",
    "  {\n",
    "    \"inputs\": {\n",
    "      \"question\": \"What is the size of the market for Plant-based Snacks in Germany in 2023?\"\n",
    "    },\n",
    "    \"outputs\": {\n",
    "      \"answer\": \"The specific size of the market for plant-based snacks in Germany for the year 2023 is not directly available in the provided source material. However, several insights can be drawn from the broader context of the plant-based food market in Germany and Europe.\\n\\n1. **Overall Plant-Based Market Growth**: The plant-based food market in Germany is experiencing significant growth, with a notable increase in consumer interest in plant-based diets. The market is projected to continue expanding due to rising health awareness, ethical considerations, and sustainability concerns among consumers. The overall plant-based food market in Europe is expected to grow, with Germany being a key player in this trend [04].\\n\\n2. **Consumer Trends**: The reports indicate that dietary preferences are shifting towards plant-based options due to health, ethical, and sustainability concerns. This shift is reflected in the increasing number of vegetarian and vegan products available in the market, including snacks. The plant-based food market in Germany is characterized by strong innovation and investment, which suggests a growing segment for plant-based snacks [04].\\n\\n3. **Market Segmentation**: While the reports do not provide specific figures for plant-based snacks, they highlight that the dairy alternatives segment is expected to account for a significant share of the plant-based food market. This indicates that other segments, including snacks, are also likely to see growth, although specific data for snacks is not detailed [04].\\n\\n4. **Flexitarianism and Consumer Behavior**: The rise of flexitarianism, where consumers incorporate more plant-based foods into their diets without completely eliminating animal products, is a crucial trend. This behavior is likely to support the growth of plant-based snacks as consumers seek convenient and healthier options [02][03].\\n\\nIn summary, while the exact size of the plant-based snacks market in Germany for 2023 is not specified in the available data, the overall trends indicate a positive growth trajectory for plant-based foods, including snacks, driven by changing consumer preferences and increasing demand for healthier and sustainable options.\"\n",
    "    }\n",
    "  },\n",
    "  {\n",
    "    \"inputs\": {\n",
    "      \"question\": \"Are consumers in Europe still concerned about inflation?\"\n",
    "    },\n",
    "    \"outputs\": {\n",
    "      \"answer\": \"### Consumer Concerns About Inflation in Europe\\n\\nConsumers in Europe continue to express significant concern regarding inflation, which remains a dominant issue affecting their financial stability and spending habits. \\n\\n#### Current Sentiment\\n1. **Widespread Concern**: A survey by E.Leclerc found that 81% of French families are worried about their financial stability, with inflation being a primary concern alongside health and geopolitical issues [07]. This sentiment is echoed across various European countries, where inflation has led to cautious consumer behavior.\\n\\n2. **Mixed Feelings**: In early 2024, European consumers reported mixed feelings about the economy, with many still wary of inflation's impact. Although some expressed slight optimism due to inflation stabilization, the majority remained cautious, particularly regarding discretionary spending [04].\\n\\n3. **Spending Adjustments**: Many consumers are actively adjusting their purchasing habits in response to high prices. A significant portion of the population is trading down to more affordable options, opting for private-label products, and delaying purchases [04]. This behavior indicates a direct response to inflationary pressures.\\n\\n4. **Food Prices**: Food inflation has been particularly acute, with prices for essential items soaring. For instance, food prices in the UK rose by 19.3% year-over-year, and similar trends were observed in other major European economies [05]. This has forced consumers to make tough choices about their spending.\\n\\n5. **Consumer Confidence**: Despite some signs of recovery in consumer sentiment, such as a gradual increase in spending expected as inflation eases, many consumers remain cautious and selective in their purchasing decisions [06]. The ongoing geopolitical uncertainties and economic pressures continue to weigh heavily on consumer confidence.\\n\\n#### Conclusion\\nOverall, it is clear that inflation remains a significant concern for consumers across Europe. While there are indications of a potential recovery in consumer spending as inflation stabilizes, the prevailing sentiment is one of caution and concern, particularly regarding essential goods and discretionary spending.\"\n",
    "    }\n",
    "  },\n",
    "  {\n",
    "    \"inputs\": {\n",
    "      \"question\": \"Create a a well deatiled 'SWOT' analysis focused on strengths for plant based foods? and add table if possible\"\n",
    "    },\n",
    "    \"outputs\": {\n",
    "      \"answer\": \"### SWOT Analysis Focused on Strengths for Plant-Based Foods\\n\\n**1. Improved Nutrition**  \\nPlant-based foods are generally low in saturated fat and cholesterol while being rich in fiber, vitamins, minerals, antioxidants, and other essential nutrients. This nutritional profile contributes to a lower risk of chronic diseases such as heart disease, diabetes, and obesity, making them an attractive option for health-conscious consumers [1].\\n\\n**2. Growing Consumer Interest**  \\nThere is a significant and growing interest in plant-based foods, driven by health benefits and dietary preferences. The rise in lactose intolerance and a shift towards vegetarian and vegan diets are key factors contributing to this trend. Many consumers are actively seeking plant-based alternatives to dairy and meat products [1][2].\\n\\n**3. Flexitarian Market Segment**  \\nThe flexitarian consumer segment, which aims to reduce meat and dairy intake by 10 to 30%, represents a substantial growth opportunity. This group is increasingly looking for plant-based products that closely mimic the taste and texture of animal products, indicating a demand for innovation in this area [2].\\n\\n**4. Sustainability Focus**  \\nConsumers are becoming more aware of the ecological footprint of their food choices. Plant-based foods are often perceived as more sustainable, which aligns with the growing consumer demand for environmentally friendly products. This focus on sustainability can enhance brand loyalty and consumer trust [2].\\n\\n\\n\\n### Summary Table of Strengths\\n\\n| Strengths                          | Description                                                                 |\\n|------------------------------------|-----------------------------------------------------------------------------|\\n| Improved Nutrition                 | Low in saturated fat and cholesterol; rich in essential nutrients.         |\\n| Growing Consumer Interest          | Increased demand due to health benefits and dietary shifts.                 |\\n| Flexitarian Market Segment         | Significant growth potential among consumers reducing meat and dairy intake.|\\n| Sustainability Focus               | Alignment with consumer demand for environmentally friendly products.      |\\n\"\n",
    "    }\n",
    "  },\n",
    "  {\n",
    "    \"inputs\": {\n",
    "      \"question\": \"What are trends in plant-based food in Europe?\"\n",
    "    },\n",
    "    \"outputs\": {\n",
    "      \"answer\": \"## Trends in Plant-Based Food in Europe\\n\\nThe plant-based food market in Europe is experiencing significant growth and transformation, driven by changing consumer attitudes, dietary preferences, and market dynamics. Below are the key trends identified from the provided sources:\\n\\n### 1. Increasing Flexitarianism\\nFlexitarian diets, characterized by a primarily plant-based approach with occasional meat consumption, are gaining traction across Europe. Approximately 30% of European consumers identify as flexitarians, with a notable 73% of flexitarians indicating they have reduced their meat consumption significantly [01-02][01-03]. This shift is supported by a growing awareness of health, environmental, and ethical concerns associated with animal-based diets [07].\\n\\n### 2. Demand for Alternative Proteins\\nConsumer demand for alternative proteins is on the rise, with nearly 40% of Europeans intending to consume less meat and around 30% planning to reduce dairy consumption [01-02][01-04]. The market is responding with a broader range of plant-based products, including meat and dairy alternatives, which are increasingly seen as viable substitutes for traditional animal products [01-02][05-01].\\n\\n### 3. Price Sensitivity and Accessibility\\nDespite the growing interest in plant-based foods, price remains a significant barrier for many consumers. Reports indicate that nearly half of flexitarians perceive plant-based options as too expensive [01-02]. However, there are signs of improvement, as seen in Germany, where plant-based cream has become cheaper than dairy cream, suggesting potential for broader market growth if other categories can achieve similar price competitiveness [03-01].\\n\\n### 4. Health and Sustainability Focus\\nHealth consciousness is a major driver of plant-based consumption, with consumers increasingly seeking products that align with their health goals. The rise of clean-label products, which are perceived as healthier and more transparent, is notable, with 76% of consumers emphasizing the importance of transparency in product information [08][07]. Additionally, sustainability concerns are influencing purchasing decisions, with many consumers opting for plant-based alternatives to reduce their environmental impact [07].\\n\\n### 5. Regional Variations in Consumption\\nConsumption patterns vary significantly across European countries. For instance, the UK and Germany have the highest shares of plant-based eaters, while countries like the Netherlands and Romania show a strong prevalence of flexitarian diets [01-04][05-01]. Spain's plant-based market has also seen substantial growth, reaching €572 million in 2023, with expectations for continued expansion [10].\\n\\n### 6. Innovation and Product Diversification\\nThe plant-based sector is diversifying beyond traditional meat substitutes to include a wide array of products such as dairy alternatives, snacks, and even hybrid proteins that combine plant-based and animal proteins [07][11]. This innovation is crucial for meeting the evolving preferences of consumers, particularly flexitarians who seek products that replicate the taste and texture of animal-based foods [11].\\n\\n### 7. Market Growth Projections\\nThe European plant-based food market is projected to grow significantly, with estimates suggesting it could reach nearly €15 billion by 2029 [10]. This growth is fueled by increasing consumer adoption and the expansion of product offerings across various categories.\\n\\nIn summary, the plant-based food market in Europe is characterized by a shift towards flexitarianism, increased demand for alternative proteins, price sensitivity, a focus on health and sustainability, regional consumption variations, and ongoing innovation. These trends present both challenges and opportunities for stakeholders in the food industry.\"\n",
    "    }\n",
    "  },\n",
    "  {\n",
    "    \"inputs\": {\n",
    "      \"question\": \"343214123regfg\"\n",
    "    },\n",
    "    \"outputs\": {\n",
    "      \"answer\": \"I cannot help with that question.\"\n",
    "    }\n",
    "  },\n",
    "  {\n",
    "    \"inputs\": {\n",
    "      \"question\": \"What is the colour of green tea?\"\n",
    "    },\n",
    "    \"outputs\": {\n",
    "      \"answer\": \"The document does not explicitly state a specific color for green tea. However, it describes a woman smiling while drinking a \\\"teal-colored beverage,\\\" which suggests an association with a specific green tea drink that may contain additional ingredients such as cotton candy. It is important to note that the description of color may vary based on the specific product or preparation of the tea.\"\n",
    "    }\n",
    "  },\n",
    "  {\n",
    "    \"inputs\": {\n",
    "      \"question\": \"Is sustainability important for biscuits?\"\n",
    "    },\n",
    "    \"outputs\": {\n",
    "      \"answer\": \"Sustainability is increasingly important for biscuits, as evidenced by current consumer trends and industry practices. ### Consumer Expectations Modern consumers, particularly Millennials and Gen Z, are placing a strong emphasis on sustainability when making food purchases. They evaluate brands based on three key areas: self, society, and planet. This means they consider how products enhance their quality of life, the positive contributions companies make to their communities, and the environmental impact of their operations. Specifically, consumers are concerned about food waste and packaging waste, indicating a preference for brands that demonstrate eco-friendly practices and sustainable sourcing [01-01]. ### Industry Initiatives Recent developments in the biscuit industry highlight this trend. For instance, Mondelez International has announced that it will use advanced recycling technology for the packaging of its Triscuit whole grain wheat crackers. This initiative aims to incorporate up to 50% recycled plastic in their packaging, which aligns with broader goals of reducing plastic waste and supporting a circular economy [02]. The company also emphasizes sustainable sourcing of ingredients, such as wheat, which further reflects the growing importance of sustainability in the biscuit sector. ### Conclusion In summary, sustainability is not just a trend but a critical factor influencing consumer choices in the biscuit market. Brands that prioritize sustainable practices are likely to resonate more with today's environmentally conscious consumers, making sustainability a vital consideration for biscuit manufacturers.\"\n",
    "    }\n",
    "  },\n",
    "  {\n",
    "    \"inputs\": {\n",
    "      \"question\": \"How sensitive are GenZ consumers to changes in food prices on planet Jupiter?\"\n",
    "    },\n",
    "    \"outputs\": {\n",
    "      \"answer\": \"The research on Generation Z's food purchasing behavior is grounded in their experiences on Earth, and there is no applicable data regarding their sensitivity to food prices on other planets.\"\n",
    "    }\n",
    "  },\n",
    "  {\n",
    "    \"inputs\": {\n",
    "      \"question\": \"How many people in Poland are buying health and beauty products online?\"\n",
    "    },\n",
    "    \"outputs\": {\n",
    "      \"answer\": \"Based on the provided market research report, 18% of consumers in Poland are buying health and beauty products online [01]. The report does not provide the absolute number of people, but it does give the percentage of consumers engaging in this behavior.\"\n",
    "    }\n",
    "  },\n",
    "  {\n",
    "    \"inputs\": {\n",
    "      \"question\": \"What are the barriers to alternative meat products?\"\n",
    "    },\n",
    "    \"outputs\": {\n",
    "      \"answer\": \"### Barriers to Alternative Meat Products The barriers to the adoption and consumption of alternative meat products are multifaceted, encompassing economic, sensory, and social dimensions. The following key barriers have been identified across various sources: **Price Sensitivity**: A significant barrier to the purchase of plant-based proteins is their higher price compared to conventional meat products. Reports indicate that plant-based meat is, on average, 30% to 40% more expensive than traditional meat, which discourages regular consumption [02-16][04-9]. Recent analyses have confirmed that many plant-based meat alternatives are considerably more expensive than their animal counterparts, which poses a challenge for consumers [09][10]. **Taste and Texture**: Consumers often perceive plant-based alternatives as lacking in taste and texture compared to traditional meat. This perception is a critical factor influencing their willingness to try and adopt these products [04-9][05-13]. The need for plant-based products to closely mimic the flavors and mouthfeel of animal-based products is emphasized as a major hurdle for market acceptance [04-9]. **Limited Availability**: There is a notable lack of variety and availability of plant-based options in restaurants and supermarkets. Nearly half of flexitarian consumers reported that there are not enough plant-based food options available when dining out, which limits their choices and convenience [04-51]. This scarcity can deter consumers from making the switch to plant-based diets. **Lack of Information**: Many consumers express a need for more information regarding plant-based food products. A significant portion of flexitarian respondents indicated that they require more knowledge about these products, which suggests that educational efforts could help alleviate some barriers to adoption [04-51]. **Social Influences**: Social dynamics play a crucial role in dietary choices. Some consumers feel that their family or partners may not support their transition to plant-based diets, which can create reluctance to adopt these alternatives [04-51]. Additionally, cultural perceptions of meat consumption as a status symbol can further complicate the acceptance of plant-based options [03-2]. **Perceived Health Concerns**: There are concerns regarding the health implications of consuming plant-based alternatives, particularly regarding their nutritional content. Some consumers worry about the adequacy of protein and other nutrients in plant-based diets, which can hinder their willingness to switch [04-51]. **Competition from Traditional and Cultured Meat**: The established infrastructure and supply chains of the meat and dairy industries present a formidable challenge to the plant-based sector. Additionally, the emergence of lab-grown meat products introduces further competition, which may divert consumer interest away from traditional plant-based alternatives [02-16][05-14]. ### Summary In summary, the barriers to alternative meat products are primarily driven by price, sensory attributes, availability, lack of information, social influences, perceived health concerns, and competition from traditional and cultured meat products. Addressing these barriers is crucial for increasing consumer acceptance and market penetration of plant-based alternatives.\"\n",
    "    }\n",
    "  },\n",
    "  {\n",
    "    \"inputs\": {\n",
    "      \"question\": \"What are the percentage growth in FMCG sector for online shopping for Groceries and Health and beauty?\"\n",
    "    },\n",
    "    \"outputs\": {\n",
    "      \"answer\": \"### Growth in Online Shopping for FMCG Sector\\n#### Online Grocery Shopping\\nThe online grocery shopping sector has seen significant growth in recent years. According to the data:\\nThe share of European consumers who buy most of their groceries online has increased by **81%** from 2015 to 2018. This indicates a strong upward trend in online grocery shopping, particularly in countries like Germany, where the share of consumers buying the majority of their groceries online rose from 8% to 17% during the same period [01-02].\\nBy 2024, online grocery sales in France accounted for **10%** of the overall grocery market, reflecting a **0.5 percentage point gain** in a short period [10].\\n#### Online Health and Beauty Shopping\\nIn the health and beauty sector, the growth has also been notable:\\nThe share of European consumers purchasing health and beauty products online increased by **46%** from 2015 to 2018 [01-03]. \\nSpecifically, in Germany, the percentage of consumers buying the majority of their health and beauty products online doubled from 9% to 18% during the same timeframe [01-02].\\n### Summary of Growth Rates\\n**Online Grocery Shopping**: 81% growth from 2015 to 2018.\\n**Online Health and Beauty Shopping**: 46% growth from 2015 to 2018.\\nThese figures highlight the increasing consumer acceptance and reliance on online platforms for purchasing groceries and health and beauty products.\"\n",
    "    }\n",
    "  },\n",
    "  {\n",
    "    \"inputs\": {\n",
    "      \"question\": \"Analyze how our current positioning in (North America) compares to our key competitors. Suggest adjustments based on consumer preferences\"\n",
    "    },\n",
    "    \"outputs\": {\n",
    "      \"answer\": \"### Current Positioning in North America\\nAcme Foods' current positioning in North America can be analyzed through various consumer trends and competitive dynamics highlighted in the provided sources. \\n#### Consumer Preferences and Market Dynamics\\n**Private Brand Growth**: There is a significant trend towards private brands in North America, with nearly 75% of US consumers indicating they are \\\"trading down\\\" to private-label brands due to affordability concerns. This shift accounts for a quarter of the trade-down behavior observed in the market [05]. Furthermore, over 80% of US consumers rate the quality of private-brand food products as equal to or better than national brands, indicating a growing acceptance and preference for these products [05].\\n**Affordability and Quality**: The situation analysis from IKEA emphasizes that consumers prioritize affordability while also seeking quality and better experiences [01-01]. This dual focus on price and quality is critical for Acme Foods to consider in its product offerings.\\n**Sustainability Concerns**: Consumers are increasingly interested in sustainable products, even amidst financial constraints. The report indicates that while affordability is paramount, there is still a desire for sustainable choices [01-01]. This suggests that Acme Foods should enhance its sustainability messaging and product offerings to align with consumer values.\\n**Health and Wellness Trends**: The Nielsen report highlights a growing demand for fresh and minimally processed foods, with consumers increasingly prioritizing health attributes in their purchasing decisions [04-01]. This trend is particularly relevant in North America, where consumers are becoming more health-conscious.\\n#### Competitive Landscape\\n**Market Share and Performance**: While Acme Foods may have a strong market presence, competitors are reportedly growing faster and outperforming on key measures [01-01]. This indicates a need for Acme Foods to reassess its competitive strategies to maintain and enhance its market share.\\n**Consumer Sentiment Towards Competitors**: The Future Shopper report indicates that consumers are motivated to shop with retailers other than Amazon primarily due to lower prices and better loyalty programs [02-01]. This suggests that Acme Foods could benefit from enhancing its pricing strategies and loyalty offerings to attract price-sensitive consumers.\\n### Suggested Adjustments\\nBased on the analysis of consumer preferences and competitive dynamics, Acme Foods should consider the following adjustments:\\n**Enhance Private Brand Offerings**: Given the strong consumer sentiment towards private brands, Acme Foods should focus on developing and marketing its private-label products, ensuring they are perceived as high-quality alternatives to national brands.\\n**Focus on Affordability and Quality**: Align product offerings with consumer expectations for both affordability and quality. This could involve optimizing pricing strategies while ensuring that product quality meets or exceeds consumer expectations.\\n**Sustainability Initiatives**: Increase the emphasis on sustainability in product development and marketing. Highlighting sustainable practices and products can resonate with consumers who prioritize environmental considerations.\\n**Health-Conscious Products**: Expand the range of health-focused products, particularly those that are fresh and minimally processed, to cater to the growing health and wellness trend among consumers.\\nBy addressing these areas, Acme Foods can better position itself in the North American market and respond effectively to evolving consumer preferences.\"\n",
    "    }\n",
    "  },\n",
    "  {\n",
    "    \"inputs\": {\n",
    "      \"question\": \"Breakdown price sensitivity to food price increases by age cohort. Table Form\"\n",
    "    },\n",
    "    \"outputs\": {\n",
    "      \"answer\": \"### Breakdown of Price Sensitivity to Food Price Increases by Age Cohort\\nThe following table summarizes the findings regarding price sensitivity to food price increases across different age cohorts based on the available data.\\n| Age Cohort      | Price Sensitivity (%) | Noticed Price Increase (%) | Impact on Purchasing Behavior (%) |\\n|------------------|-----------------------|----------------------------|------------------------------------|\\n| Gen Z (18-24)    | 83% (noted increase)  | 83%                        | 67% (changed shopping behavior)    |\\n| Millennials (25-40) | 88% (noted increase) | 88%                        | 60% (changed shopping behavior)    |\\n| Gen X (41-56)    | 92% (noted increase)  | 92%                        | 67% (changed shopping behavior)    |\\n| Boomers (57-75)  | 95% (noted increase)  | 95%                        | 60% (changed shopping behavior)    |\\n#### Key Insights:\\n**Overall Sensitivity**: Across all age groups, there is a high level of awareness regarding food price increases, with 91% of respondents noting an increase in food costs over the past year [01-02][01-03].\\n**Gen Z**: This cohort shows a significant level of price sensitivity, with 83% reporting that price impacts their food purchasing decisions. They are also more likely to have changed their shopping behavior due to price increases [01-04].\\n**Millennials**: Similar to Gen Z, Millennials exhibit high price sensitivity, with 88% acknowledging the impact of price on their purchasing decisions [01-04].\\n**Gen X**: This group has the highest percentage of individuals who have noticed price increases (92%) and have adjusted their shopping habits accordingly [01-04].\\n**Boomers**: They report the highest awareness of price increases (95%) and show a significant change in purchasing behavior, similar to Gen X [01-04].\\n### Summary of Purchasing Behavior Changes:\\n**Cutting Back**: Many consumers across all age groups have reported cutting back on non-essential food items due to increased prices, with 47% of respondents indicating they \\\"always/often\\\" do this [01-04].\\n**Choosing Less Premium Products**: A significant number of consumers are opting for less premium or brand-name products, with 47% stating they frequently make this choice due to price sensitivity [01-04].\\nThis data indicates a clear trend of increasing price sensitivity among all age cohorts, with younger generations (Gen Z and Millennials) showing notable awareness and behavioral changes in response to rising food prices.\"\n",
    "    }\n",
    "  },\n",
    "  {\n",
    "    \"inputs\": {\n",
    "      \"question\": \"Can you create a swot analysis on FMCG prodcuts?\"\n",
    "    },\n",
    "    \"outputs\": {\n",
    "      \"answer\": \"### SWOT Analysis of FMCG Products\\n**Strengths:**\\n**Growing Middle Class:** The rise of the middle class in China has led to increased disposable income, which grew by 9.7% in 2013. This demographic shift provides a larger consumer base for FMCG products, particularly in emerging regions where category usage is still catching up [1].\\n**Health Consciousness:** There is a heightened awareness of quality and safety among consumers, driven by concerns over consumer goods safety. This trend presents opportunities for FMCG brands to develop products that meet these health-conscious demands [1].\\n**Diverse Product Categories:** The FMCG market encompasses a wide range of categories, with 51 out of 117 tracked categories in a mature phase, indicating potential for new entrants and innovations to capture market share [1].\\n**Weaknesses:**\\n**Cautious Consumer Behavior:** Despite growth in disposable income, consumers are becoming more cautious in their purchasing decisions, particularly in response to macroeconomic uncertainties. This cautiousness can limit spending on FMCG products [1].\\n**Market Saturation in Mature Categories:** With many categories already in a mature phase, there may be limited growth opportunities in these areas, necessitating innovation and differentiation to attract consumers [1].\\n**Opportunities:**\\n**Geographic Expansion:** There is significant potential for geographic expansion in fast-growing regions, where consumers are still increasing their category usage. This presents an opportunity for brands to tap into new markets [1].\\n**Affordable Luxury Segment:** As consumers cut back on luxury goods, there is a shift towards affordable luxury products. Brands that can offer quality and relevant innovations in this space may find new growth avenues [1].\\n**Threats:**\\n**Economic Uncertainty:** The overall economic environment remains uncertain, which can impact consumer confidence and spending patterns. This uncertainty poses a risk to sustained growth in the FMCG sector [1].\\n**Increased Competition:** As the market evolves, competition among FMCG brands is likely to intensify, particularly in the health and wellness segments, where consumer demand is rising [1].\\n### Caveats and Watch-outs\\n<watchouts>\\nThe data referenced is from a report dated March 2014, which may not accurately reflect the current market conditions or consumer behaviors as of July 2024. Trends and consumer preferences may have shifted significantly since then.\\nThe analysis is primarily based on the Chinese FMCG market, and the applicability of these insights to other regions or markets may be limited.\\nThe report does not provide specific data on the impact of recent global events (e.g., the COVID-19 pandemic) on consumer behavior, which could significantly alter the FMCG landscape\"\n",
    "    }\n",
    "  }\n",
    "]\n",
    "\n",
    "\n",
    "# Create the example\n",
    "example = client.create_example(\n",
    "    dataset_id=dataset_id,\n",
    "    examples=[example_data]\n",
    ")\n",
    "\n",
    "print(f\"Example created with ID: {example.id}\")"
   ]
  },
  {
   "cell_type": "code",
   "execution_count": null,
   "metadata": {},
   "outputs": [],
   "source": []
  }
 ],
 "metadata": {
  "kernelspec": {
   "display_name": "Python 3",
   "language": "python",
   "name": "python3"
  },
  "language_info": {
   "codemirror_mode": {
    "name": "ipython",
    "version": 3
   },
   "file_extension": ".py",
   "mimetype": "text/x-python",
   "name": "python",
   "nbconvert_exporter": "python",
   "pygments_lexer": "ipython3",
   "version": "3.11.6"
  }
 },
 "nbformat": 4,
 "nbformat_minor": 2
}
